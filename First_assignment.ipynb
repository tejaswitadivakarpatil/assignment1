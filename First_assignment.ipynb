{
 "cells": [
  {
   "cell_type": "markdown",
   "id": "6fba4091-e945-4945-a469-f5c01dd3f638",
   "metadata": {},
   "source": [
    "First Assignment"
   ]
  },
  {
   "cell_type": "markdown",
   "id": "8804d884-b734-47ae-a621-81f2150bb1c5",
   "metadata": {},
   "source": [
    "Problem 1: Write a program that will give you in hand monthly salary after deduction on \n",
    "CTC - HRA(10%), DA(5%), PF(3%) and taxes deduction as below:\n",
    "Salary(Lakhs) : Tax(%)\n",
    "Below 5 : 0%\n",
    "5-10 : 10%\n",
    "10-20 : 20%\n",
    "above 20 : 30%\n"
   ]
  },
  {
   "cell_type": "code",
   "execution_count": 23,
   "id": "edb5b3c4-6f62-459e-8a1d-af75f03db4dd",
   "metadata": {},
   "outputs": [
    {
     "name": "stdout",
     "output_type": "stream",
     "text": [
      "In-hand monthly salary: 73800.00\n"
     ]
    }
   ],
   "source": [
    "def calculate_deduction(ctc):\n",
    "    HRA_PERCENTAGE = 10\n",
    "    DA_PERCENTAGE = 5\n",
    "    PF_PERCENTAGE = 3\n",
    "\n",
    "    hra = (HRA_PERCENTAGE / 100) * ctc\n",
    "    da = (DA_PERCENTAGE / 100) * ctc\n",
    "    pf = (PF_PERCENTAGE / 100) * ctc\n",
    "    total_deduction = hra + da + pf\n",
    "    return total_deduction\n",
    "\n",
    "def calculate_tax(taxable_income):\n",
    "    if taxable_income < 5_00_00:\n",
    "        tax_percentage = 0\n",
    "    elif 5_00_00 <= taxable_income < 10_00_000:\n",
    "        tax_percentage = 10\n",
    "    elif 10_00_000 <= taxable_income < 2_00_000:\n",
    "        tax_percentage = 20\n",
    "    else:\n",
    "        tax_percentage = 30\n",
    "    \n",
    "    # Calculate tax amount\n",
    "    tax = (tax_percentage / 100) * taxable_income\n",
    "    return tax\n",
    "\n",
    "def calculate_in_hand_salary(ctc):\n",
    "    total_deduction = calculate_deduction(ctc)\n",
    "    taxable_income = ctc - total_deduction\n",
    "    tax = calculate_tax(taxable_income)\n",
    "    net_income = taxable_income - tax\n",
    "    monthly_in_hand_salary = net_income / 12\n",
    "    return monthly_in_hand_salary\n",
    "\n",
    "ctc = 12_00_000\n",
    "monthly_salary = calculate_in_hand_salary(ctc)\n",
    "print(f\"In-hand monthly salary: {monthly_salary:.2f}\")"
   ]
  },
  {
   "cell_type": "markdown",
   "id": "a82198af-411e-4171-adff-a284de895606",
   "metadata": {},
   "source": [
    "Problem 2: Write a program that take a user input of three angles and will find out whether it can form a triangle or not.\n"
   ]
  },
  {
   "cell_type": "code",
   "execution_count": null,
   "id": "053d3ff2-e9b5-4962-ba0a-0fe6826f5da5",
   "metadata": {},
   "outputs": [],
   "source": [
    "a = float(input(\"enter the 1st angle\"))\n",
    "b = float(input(\"enter the 2nd angle\"))\n",
    "c = float(input(\"enter the 3rd angle\"))\n",
    "if a+b+c==180:\n",
    "          print(\"angles you entered will form a triangle\")\n",
    "else:\n",
    "    print(\"angles you entered will not form a triangle\")\n",
    "       "
   ]
  },
  {
   "cell_type": "markdown",
   "id": "c708918a-10a9-4369-96bc-caa7f8cab69c",
   "metadata": {},
   "source": [
    "Problem 3: Write a program that will take user input of cost price and selling price and determines whether its a loss or \n",
    "profit"
   ]
  },
  {
   "cell_type": "code",
   "execution_count": null,
   "id": "4150f906-9e03-41d9-b0de-49ac6695e331",
   "metadata": {},
   "outputs": [],
   "source": [
    "cost_price=float(input(\"enter cp\"))\n",
    "selling_price=float(input(\"enter sp\"))\n",
    "if selling_price > cost_price:\n",
    "                    print(\"profit\")\n",
    "else:\n",
    "    print(\"loss\")\n",
    "                    "
   ]
  },
  {
   "cell_type": "markdown",
   "id": "29adb0ef-7025-473b-a5c1-d4613d356c6d",
   "metadata": {},
   "source": [
    "Problem 4: Write a menu-driven program  \n",
    "1.cm to ft \n",
    "\n",
    "2.km to miles \n",
    "\n",
    "3.USD to INR\n",
    "\n",
    "4.exit"
   ]
  },
  {
   "cell_type": "code",
   "execution_count": null,
   "id": "1914692d-f0ae-4ddc-9ac3-fbebd6cfe08d",
   "metadata": {},
   "outputs": [],
   "source": [
    "menu = input(\"\"\"\n",
    "Hii select one option\n",
    "1. cms to ft\n",
    "2. km to miles\n",
    "3. USD to INR\n",
    "4. Exit\n",
    "\n",
    "\"\"\")\n",
    "if menu == \"1\":\n",
    "    cm = float(input(\"enter your cm value\"))\n",
    "    print(\"ft value is \",0.03280*cm)\n",
    "elif menu == \"2\":\n",
    "    km =  eval(input(\"enter your km value\"))\n",
    "    print(\"miles value is\",0.62*km)\n",
    "elif menu == \"3\":\n",
    "    USD = eval(input(\"enter your USD value\"))\n",
    "    print(\"INR value is\",83.35*USD)\n",
    "else:\n",
    "    print(\"Exit\")\n",
    "    "
   ]
  },
  {
   "cell_type": "markdown",
   "id": "0a89938c-3e4c-4a8f-aa0a-9cead69ffe96",
   "metadata": {},
   "source": [
    "Problem 5 - Exercise 12: Display Fibonacci series up to 10 terms.\n",
    "Note: The Fibonacci Sequence is a series of numbers. The next number is found by adding up the two numbers before it.\n",
    "The first two numbers are 0 and 1. For example, 0, 1, 1, 2, 3, 5, 8, 13, 21. The next number in this series above is 13+21 = 33\n",
    " "
   ]
  },
  {
   "cell_type": "code",
   "execution_count": null,
   "id": "7e44c1a8-01e3-438b-8c4f-59ef50c38501",
   "metadata": {},
   "outputs": [],
   "source": [
    "def fibonacci_series(n):\n",
    "    fib_series = [0,1]  # Initialize the first two terms of the series\n",
    "\n",
    "    for i in range(2, n):\n",
    "        next_term = fib_series[i-1] + fib_series[i-2]\n",
    "        fib_series.append(next_term)\n",
    "\n",
    "    return fib_series\n",
    "\n",
    "terms = 10\n",
    "fibonacci_result = fibonacci_series(terms)\n",
    "\n",
    "print(\"Fibonacci Series up to\", terms, \"terms:\")\n",
    "for num in fibonacci_result:\n",
    "    print(num)"
   ]
  },
  {
   "cell_type": "markdown",
   "id": "8a2cb7b0-e5a4-4262-be41-872bfbc02e01",
   "metadata": {},
   "source": [
    "Problem 6 - Find the factorial of a given number.\n",
    "Write a program to use the loop to find the factorial of a given number.\n",
    "The factorial (symbol: !) means to multiply all whole numbers from the chosen number down to 1.\n",
    "For example: calculate the factorial of 5\n",
    "5! = 5 × 4 × 3 × 2 × 1 = 120\n",
    "Output:\n",
    "120"
   ]
  },
  {
   "cell_type": "code",
   "execution_count": null,
   "id": "584447e0-2983-47fb-9367-d9b2780d7abf",
   "metadata": {},
   "outputs": [],
   "source": [
    "num=int(input(\"give a number\"))\n",
    "fact=1\n",
    "for i in range(1,num+1):\n",
    "    fact=fact*i\n",
    "    print(fact)\n",
    "    \n"
   ]
  },
  {
   "cell_type": "markdown",
   "id": "ffbed0c8-a41c-4d42-a5d0-95e7dec82808",
   "metadata": {},
   "source": [
    "problem 7 - Reverse a given integer number.\n",
    "example\n",
    "Input:\n",
    "76542\n",
    "Output:\n",
    "24567"
   ]
  },
  {
   "cell_type": "code",
   "execution_count": null,
   "id": "5f1ed889-f65b-4d3a-82e0-bceb7c9c4d8d",
   "metadata": {},
   "outputs": [],
   "source": [
    "num=int(input(\"take a number from user\"))\n",
    "print(str(num)[::-1])\n"
   ]
  },
  {
   "cell_type": "markdown",
   "id": "b9e3f7c9-7562-4c9d-84ea-b832a2d5a25a",
   "metadata": {},
   "source": [
    "Problem 8: Take a user input as integer N. Find out the sum from 1 to N. \n",
    "If any number if divisible by 5, then skip that number. And if the sum is greater than 300, don't need to calculate the sum further more.\n",
    "Print the final result. And don't use for loop to solve this problem.\n",
    "Example 1:\n",
    "Input:\n",
    "30\n",
    "Output:\n",
    "276\n",
    "num=int(input\"enter an interger\")"
   ]
  },
  {
   "cell_type": "code",
   "execution_count": 8,
   "id": "cbcfb6f2-d419-4dc0-b16f-9d55232af2fb",
   "metadata": {},
   "outputs": [
    {
     "name": "stdin",
     "output_type": "stream",
     "text": [
      "Enter an integer:  56\n"
     ]
    },
    {
     "name": "stdout",
     "output_type": "stream",
     "text": [
      "The final result is: 1266\n"
     ]
    }
   ],
   "source": [
    "num = int(input(\"Enter an integer: \"))\n",
    "total_sum = sum(range(1, num + 1))\n",
    "multiples_of_5 = sum(range(5, num + 1, 5))\n",
    "\n",
    "if total_sum > 300:\n",
    "    total_sum -= multiples_of_5\n",
    "\n",
    "print(\"The final result is:\", total_sum)"
   ]
  },
  {
   "cell_type": "markdown",
   "id": "e1794c28-1357-4646-8cfd-19955ea119d8",
   "metadata": {},
   "source": [
    "Problem 9: Write a program that keeps on accepting a number from the user until the user enters Zero. \n",
    "Display the sum and average of all the numbers.\n"
   ]
  },
  {
   "cell_type": "code",
   "execution_count": 14,
   "id": "8d7092cd-a5d1-4931-839d-9ba94b3ed369",
   "metadata": {},
   "outputs": [
    {
     "name": "stdin",
     "output_type": "stream",
     "text": [
      "enter yuor number 4\n"
     ]
    },
    {
     "name": "stdout",
     "output_type": "stream",
     "text": [
      "addition 4\n",
      "average 4.0\n"
     ]
    },
    {
     "name": "stdin",
     "output_type": "stream",
     "text": [
      "enter yuor number 3\n"
     ]
    },
    {
     "name": "stdout",
     "output_type": "stream",
     "text": [
      "addition 7\n",
      "average 3.5\n"
     ]
    },
    {
     "name": "stdin",
     "output_type": "stream",
     "text": [
      "enter yuor number 0\n"
     ]
    }
   ],
   "source": [
    "sum = 0\n",
    "count = 0\n",
    "while True :\n",
    "    num = int(input(\"enter your number\"))\n",
    "    if num== 0 :\n",
    "        break\n",
    "    sum = sum + num\n",
    "    count = count + 1\n",
    "    print(\"addition\",sum)\n",
    "    print(\"average\",sum/count)"
   ]
  },
  {
   "cell_type": "markdown",
   "id": "23091528-38b0-4a32-ac9c-c1d8666a9636",
   "metadata": {},
   "source": [
    "Problem 9: Write a program which will find all such numbers which are divisible by 7\n",
    "but are not a multiple of 5, between 2000 and 3200 (both included). \n",
    "The numbers obtained should be printed in a comma-separated sequence on a single line."
   ]
  },
  {
   "cell_type": "code",
   "execution_count": 19,
   "id": "9ed7b77e-449a-4cbf-9d17-de63dd65eca2",
   "metadata": {},
   "outputs": [
    {
     "name": "stdout",
     "output_type": "stream",
     "text": [
      "2002,2009,2016,2023,2037,2044,2051,2058,2072,2079,2086,2093,2107,2114,2121,2128,2142,2149,2156,2163,2177,2184,2191,2198,2212,2219,2226,2233,2247,2254,2261,2268,2282,2289,2296,2303,2317,2324,2331,2338,2352,2359,2366,2373,2387,2394,2401,2408,2422,2429,2436,2443,2457,2464,2471,2478,2492,2499,2506,2513,2527,2534,2541,2548,2562,2569,2576,2583,2597,2604,2611,2618,2632,2639,2646,2653,2667,2674,2681,2688,2702,2709,2716,2723,2737,2744,2751,2758,2772,2779,2786,2793,2807,2814,2821,2828,2842,2849,2856,2863,2877,2884,2891,2898,2912,2919,2926,2933,2947,2954,2961,2968,2982,2989,2996,3003,3017,3024,3031,3038,3052,3059,3066,3073,3087,3094,3101,3108,3122,3129,3136,3143,3157,3164,3171,3178,3192,3199\n"
     ]
    }
   ],
   "source": [
    "def find_special_numbers(start, end):\n",
    "    special_numbers = []\n",
    "    for number in range(start, end + 1):\n",
    "        if number % 7 == 0 and number % 5 != 0:\n",
    "            special_numbers.append(str(number))\n",
    "    return special_numbers\n",
    "\n",
    "# Define the range\n",
    "start = 2000\n",
    "end = 3200\n",
    "\n",
    "# Find all numbers divisible by 7 but not a multiple of 5 in the range\n",
    "special_numbers = find_special_numbers(start, end)\n",
    "\n",
    "# Print the result as a comma-separated sequence\n",
    "print(\",\".join(special_numbers))"
   ]
  },
  {
   "cell_type": "markdown",
   "id": "0ea61bbd-8b66-45aa-95a3-d07480480f5d",
   "metadata": {},
   "source": [
    "Problem 10: Write a program, which will find all such numbers between 1000 and 3000 \n",
    "(both included) such that each digit of the number is an even number.\n",
    "The numbers obtained should be printed in a space-separated sequence on a single line"
   ]
  },
  {
   "cell_type": "code",
   "execution_count": 24,
   "id": "8697e43b-6954-4bd3-8d44-19c0a9eebc79",
   "metadata": {},
   "outputs": [
    {
     "name": "stdout",
     "output_type": "stream",
     "text": [
      "1000 1002 1004 1006 1008 1010 1012 1014 1016 1018 1020 1022 1024 1026 1028 1030 1032 1034 1036 1038 1040 1042 1044 1046 1048 1050 1052 1054 1056 1058 1060 1062 1064 1066 1068 1070 1072 1074 1076 1078 1080 1082 1084 1086 1088 1090 1092 1094 1096 1098 1100 1102 1104 1106 1108 1110 1112 1114 1116 1118 1120 1122 1124 1126 1128 1130 1132 1134 1136 1138 1140 1142 1144 1146 1148 1150 1152 1154 1156 1158 1160 1162 1164 1166 1168 1170 1172 1174 1176 1178 1180 1182 1184 1186 1188 1190 1192 1194 1196 1198 1200 1202 1204 1206 1208 1210 1212 1214 1216 1218 1220 1222 1224 1226 1228 1230 1232 1234 1236 1238 1240 1242 1244 1246 1248 1250 1252 1254 1256 1258 1260 1262 1264 1266 1268 1270 1272 1274 1276 1278 1280 1282 1284 1286 1288 1290 1292 1294 1296 1298 1300 1302 1304 1306 1308 1310 1312 1314 1316 1318 1320 1322 1324 1326 1328 1330 1332 1334 1336 1338 1340 1342 1344 1346 1348 1350 1352 1354 1356 1358 1360 1362 1364 1366 1368 1370 1372 1374 1376 1378 1380 1382 1384 1386 1388 1390 1392 1394 1396 1398 1400 1402 1404 1406 1408 1410 1412 1414 1416 1418 1420 1422 1424 1426 1428 1430 1432 1434 1436 1438 1440 1442 1444 1446 1448 1450 1452 1454 1456 1458 1460 1462 1464 1466 1468 1470 1472 1474 1476 1478 1480 1482 1484 1486 1488 1490 1492 1494 1496 1498 1500 1502 1504 1506 1508 1510 1512 1514 1516 1518 1520 1522 1524 1526 1528 1530 1532 1534 1536 1538 1540 1542 1544 1546 1548 1550 1552 1554 1556 1558 1560 1562 1564 1566 1568 1570 1572 1574 1576 1578 1580 1582 1584 1586 1588 1590 1592 1594 1596 1598 1600 1602 1604 1606 1608 1610 1612 1614 1616 1618 1620 1622 1624 1626 1628 1630 1632 1634 1636 1638 1640 1642 1644 1646 1648 1650 1652 1654 1656 1658 1660 1662 1664 1666 1668 1670 1672 1674 1676 1678 1680 1682 1684 1686 1688 1690 1692 1694 1696 1698 1700 1702 1704 1706 1708 1710 1712 1714 1716 1718 1720 1722 1724 1726 1728 1730 1732 1734 1736 1738 1740 1742 1744 1746 1748 1750 1752 1754 1756 1758 1760 1762 1764 1766 1768 1770 1772 1774 1776 1778 1780 1782 1784 1786 1788 1790 1792 1794 1796 1798 1800 1802 1804 1806 1808 1810 1812 1814 1816 1818 1820 1822 1824 1826 1828 1830 1832 1834 1836 1838 1840 1842 1844 1846 1848 1850 1852 1854 1856 1858 1860 1862 1864 1866 1868 1870 1872 1874 1876 1878 1880 1882 1884 1886 1888 1890 1892 1894 1896 1898 1900 1902 1904 1906 1908 1910 1912 1914 1916 1918 1920 1922 1924 1926 1928 1930 1932 1934 1936 1938 1940 1942 1944 1946 1948 1950 1952 1954 1956 1958 1960 1962 1964 1966 1968 1970 1972 1974 1976 1978 1980 1982 1984 1986 1988 1990 1992 1994 1996 1998 2000 2002 2004 2006 2008 2010 2012 2014 2016 2018 2020 2022 2024 2026 2028 2030 2032 2034 2036 2038 2040 2042 2044 2046 2048 2050 2052 2054 2056 2058 2060 2062 2064 2066 2068 2070 2072 2074 2076 2078 2080 2082 2084 2086 2088 2090 2092 2094 2096 2098 2100 2102 2104 2106 2108 2110 2112 2114 2116 2118 2120 2122 2124 2126 2128 2130 2132 2134 2136 2138 2140 2142 2144 2146 2148 2150 2152 2154 2156 2158 2160 2162 2164 2166 2168 2170 2172 2174 2176 2178 2180 2182 2184 2186 2188 2190 2192 2194 2196 2198 2200 2202 2204 2206 2208 2210 2212 2214 2216 2218 2220 2222 2224 2226 2228 2230 2232 2234 2236 2238 2240 2242 2244 2246 2248 2250 2252 2254 2256 2258 2260 2262 2264 2266 2268 2270 2272 2274 2276 2278 2280 2282 2284 2286 2288 2290 2292 2294 2296 2298 2300 2302 2304 2306 2308 2310 2312 2314 2316 2318 2320 2322 2324 2326 2328 2330 2332 2334 2336 2338 2340 2342 2344 2346 2348 2350 2352 2354 2356 2358 2360 2362 2364 2366 2368 2370 2372 2374 2376 2378 2380 2382 2384 2386 2388 2390 2392 2394 2396 2398 2400 2402 2404 2406 2408 2410 2412 2414 2416 2418 2420 2422 2424 2426 2428 2430 2432 2434 2436 2438 2440 2442 2444 2446 2448 2450 2452 2454 2456 2458 2460 2462 2464 2466 2468 2470 2472 2474 2476 2478 2480 2482 2484 2486 2488 2490 2492 2494 2496 2498 2500 2502 2504 2506 2508 2510 2512 2514 2516 2518 2520 2522 2524 2526 2528 2530 2532 2534 2536 2538 2540 2542 2544 2546 2548 2550 2552 2554 2556 2558 2560 2562 2564 2566 2568 2570 2572 2574 2576 2578 2580 2582 2584 2586 2588 2590 2592 2594 2596 2598 2600 2602 2604 2606 2608 2610 2612 2614 2616 2618 2620 2622 2624 2626 2628 2630 2632 2634 2636 2638 2640 2642 2644 2646 2648 2650 2652 2654 2656 2658 2660 2662 2664 2666 2668 2670 2672 2674 2676 2678 2680 2682 2684 2686 2688 2690 2692 2694 2696 2698 2700 2702 2704 2706 2708 2710 2712 2714 2716 2718 2720 2722 2724 2726 2728 2730 2732 2734 2736 2738 2740 2742 2744 2746 2748 2750 2752 2754 2756 2758 2760 2762 2764 2766 2768 2770 2772 2774 2776 2778 2780 2782 2784 2786 2788 2790 2792 2794 2796 2798 2800 2802 2804 2806 2808 2810 2812 2814 2816 2818 2820 2822 2824 2826 2828 2830 2832 2834 2836 2838 2840 2842 2844 2846 2848 2850 2852 2854 2856 2858 2860 2862 2864 2866 2868 2870 2872 2874 2876 2878 2880 2882 2884 2886 2888 2890 2892 2894 2896 2898 2900 2902 2904 2906 2908 2910 2912 2914 2916 2918 2920 2922 2924 2926 2928 2930 2932 2934 2936 2938 2940 2942 2944 2946 2948 2950 2952 2954 2956 2958 2960 2962 2964 2966 2968 2970 2972 2974 2976 2978 2980 2982 2984 2986 2988 2990 2992 2994 2996 2998 "
     ]
    }
   ],
   "source": [
    "for i in range(1000,3000,2):\n",
    "    print(i,end=\" \")"
   ]
  },
  {
   "cell_type": "markdown",
   "id": "cab6c46e-57a9-47ef-8cb6-764eb9d6a16e",
   "metadata": {},
   "source": [
    "Problem 11: A robot moves in a plane starting from the original point (0,0).\n",
    "The robot can move toward UP, DOWN, LEFT and RIGHT with a given steps.\n",
    "The trace of robot movement is shown as the following:\n",
    "UP 5\n",
    "DOWN 3\n",
    "LEFT 3\n",
    "RIGHT 2\n",
    "!\n",
    "The numbers after the direction are steps.\n",
    "! means robot stop there.\n",
    "Please write a program to compute the distance from current position after a sequence of movement and original point.\n",
    "If the distance is a float, then just print the nearest integer.\n",
    "Example:\n",
    "Input:\n",
    "UP 5\n",
    "DOWN 3\n",
    "LEFT 3\n",
    "RIGHT 2\n",
    "!\n",
    "Output:\n",
    "2"
   ]
  },
  {
   "cell_type": "code",
   "execution_count": 17,
   "id": "23a50f5d-4987-4406-849c-1694e1045b40",
   "metadata": {},
   "outputs": [
    {
     "name": "stdout",
     "output_type": "stream",
     "text": [
      "1\n"
     ]
    }
   ],
   "source": [
    "import math\n",
    "\n",
    "def calculate_distance_from_origin(commands):\n",
    "    # Starting point\n",
    "    x, y = 0, 0\n",
    "\n",
    "    for command in commands:\n",
    "        if command == \"!\":\n",
    "            break\n",
    "        direction, steps = command.split()\n",
    "        steps = int(steps)\n",
    "        \n",
    "        if direction == \"UP\":\n",
    "            y += steps\n",
    "        elif direction == \"DOWN\":\n",
    "            y -= steps\n",
    "        elif direction == \"LEFT\":\n",
    "            x -= steps\n",
    "        elif direction == \"RIGHT\":\n",
    "            x += steps\n",
    "\n",
    "    # Calculate the Euclidean distance from (0, 0) to (x, y)\n",
    "    distance = math.sqrt(x*2 + y*2)\n",
    "\n",
    "    # Return the nearest integer distance\n",
    "    return round(distance)\n",
    "\n",
    "# Example usage\n",
    "commands = [\n",
    "    \"UP 5\",\n",
    "    \"DOWN 3\",\n",
    "    \"LEFT 3\",\n",
    "    \"RIGHT 2\",\n",
    "    \"!\"\n",
    "]\n",
    "\n",
    "print(calculate_distance_from_origin(commands))  "
   ]
  },
  {
   "cell_type": "markdown",
   "id": "4f74f3b3-16be-43ca-85ca-359da5af546e",
   "metadata": {},
   "source": [
    "Problem 12:Write a program to print whether a given number is a prime number or not"
   ]
  },
  {
   "cell_type": "code",
   "execution_count": 24,
   "id": "a0f171fa-1357-4d0a-9e95-a803f87c9308",
   "metadata": {},
   "outputs": [
    {
     "name": "stdin",
     "output_type": "stream",
     "text": [
      "enter a number 12\n"
     ]
    },
    {
     "name": "stdout",
     "output_type": "stream",
     "text": [
      "the number you enterd is not a prime number\n"
     ]
    }
   ],
   "source": [
    "# Problem 12:Write a program to print whether a given number is a prime number or not\n",
    "a=int(input(\"enter a number\"))\n",
    "if a%2:\n",
    "    print(\"the number you enterd is a prime number\" )\n",
    "else:\n",
    "    print(\"the number you enterd is not a prime number\")\n",
    "    \n",
    "    \n",
    "    "
   ]
  },
  {
   "cell_type": "markdown",
   "id": "e165eaaf-589d-4792-8d52-d8bedce6a9e0",
   "metadata": {},
   "source": [
    "Problem 13:Print all the Armstrong numbers in a given range.\n",
    "Range will be provided by the user     \n",
    "Armstrong number is a number that is equal to the sum of cubes of its digits. For example 0, 1, 153, 370, 371 and 407 are the Armstrong numbers."
   ]
  },
  {
   "cell_type": "code",
   "execution_count": 14,
   "id": "32cde399-5025-4fe0-a4e1-65912fd12685",
   "metadata": {},
   "outputs": [
    {
     "name": "stdin",
     "output_type": "stream",
     "text": [
      "Enter the start of the range:  877\n",
      "Enter the end of the range:  1000\n"
     ]
    },
    {
     "name": "stdout",
     "output_type": "stream",
     "text": [
      "Armstrong numbers in the given range: []\n"
     ]
    }
   ],
   "source": [
    "def is_armstrong_number(num):\n",
    "    # Convert the number to a string to easily iterate over digits\n",
    "    digits = str(num)\n",
    "    # Calculate the sum of cubes of its digits\n",
    "    sum_of_cubes = sum(int(digit) ** 3 for digit in digits)\n",
    "    # Check if the sum of cubes is equal to the original number\n",
    "    return sum_of_cubes == num\n",
    "\n",
    "def print_armstrong_numbers(start, end):\n",
    "    armstrong_numbers = []\n",
    "    for num in range(start, end + 1):\n",
    "        if is_armstrong_number(num):\n",
    "            armstrong_numbers.append(num)\n",
    "    return armstrong_numbers\n",
    "\n",
    "# Example usage\n",
    "start = int(input(\"Enter the start of the range: \"))\n",
    "end = int(input(\"Enter the end of the range: \"))\n",
    "armstrong_numbers = print_armstrong_numbers(start, end)\n",
    "print(\"Armstrong numbers in the given range:\", armstrong_numbers)"
   ]
  },
  {
   "cell_type": "markdown",
   "id": "3aaebf65-2583-41e5-aed2-b346efaf59c0",
   "metadata": {},
   "source": [
    "Problem 14:Calculate the angle between the hour hand and minute hand.\n",
    "Note: There can be two angles between hands; we need to print a minimum of two.\n",
    "Also, we need to print the floor of the final result angle. For example, if the final angle is 10.61, we need to print 10.\n",
    "Input:\n",
    "H = 9 , M = 0\n",
    "Output:\n",
    "#90\n",
    "Explanation:\n",
    "The minimum angle between hour and minute hand when the time is 9 is 90 degress."
   ]
  },
  {
   "cell_type": "code",
   "execution_count": 12,
   "id": "28a7d7fe-a716-4ef1-b359-bcfcd1723f9b",
   "metadata": {},
   "outputs": [
    {
     "name": "stdout",
     "output_type": "stream",
     "text": [
      "90\n"
     ]
    }
   ],
   "source": [
    "def calculate_angle(H, M):\n",
    "    # Ensure that the hour is within the range [0, 11] for a 12-hour clock\n",
    "    H = H % 12\n",
    "\n",
    "    # Calculate the positions of the hour and minute hands\n",
    "    minute_angle = 6 * M\n",
    "    hour_angle = 0.5 * (60 * H + M)\n",
    "\n",
    "    # Calculate the absolute difference between the two angles\n",
    "    angle = abs(hour_angle - minute_angle)\n",
    "\n",
    "    # The smaller angle between the two possible angles\n",
    "    angle = min(angle, 360 - angle)\n",
    "\n",
    "    # Return the floor of the angle\n",
    "    return int(angle)\n",
    "\n",
    "# Example usage\n",
    "H = 9\n",
    "M = 0\n",
    "print(calculate_angle(H, M))  "
   ]
  },
  {
   "cell_type": "markdown",
   "id": "e8c980f7-ec3c-4464-bd51-e3a8c9e91bd2",
   "metadata": {},
   "source": [
    "Problem 15:Given two rectangles, find if the given two rectangles overlap or not.\n",
    "A rectangle is denoted by providing the x and y coordinates of two points: \n",
    "the left top corner and the right bottom corner of the rectangle. \n",
    "Two rectangles sharing a side are considered overlapping.\n",
    "(L1 and R1 are the extreme points of the first rectangle and L2 and R2 are the extreme points of the second rectangle).\n",
    "Note: It may be assumed that the rectangles are parallel to the coordinate axis.\n",
    "\n"
   ]
  },
  {
   "cell_type": "code",
   "execution_count": 11,
   "id": "e7588c7e-5e11-4c02-88b4-a8ceae460375",
   "metadata": {},
   "outputs": [
    {
     "name": "stdout",
     "output_type": "stream",
     "text": [
      "The rectangles overlap.\n"
     ]
    }
   ],
   "source": [
    "def do_rectangles_overlap(L1, R1, L2, R2):\n",
    "    \"\"\"\n",
    "    Check if two rectangles overlap.\n",
    "\n",
    "    :param L1: Tuple[int, int] - Top-left corner of the first rectangle (x1, y1)\n",
    "    :param R1: Tuple[int, int] - Bottom-right corner of the first rectangle (x2, y2)\n",
    "    :param L2: Tuple[int, int] - Top-left corner of the second rectangle (x3, y3)\n",
    "    :param R2: Tuple[int, int] - Bottom-right corner of the second rectangle (x4, y4)\n",
    "    :return: bool - True if rectangles overlap, False otherwise\n",
    "    \"\"\"\n",
    "\n",
    "    # If one rectangle is to the left of the other\n",
    "    if L1[0] > R2[0] or L2[0] > R1[0]:\n",
    "        return False\n",
    "    \n",
    "    # If one rectangle is above the other\n",
    "    if L1[1] < R2[1] or L2[1] < R1[1]:\n",
    "        return False\n",
    "    \n",
    "    return True\n",
    "\n",
    "# Example usage\n",
    "L1 = (0, 10)\n",
    "R1 = (10, 0)\n",
    "L2 = (5, 5)\n",
    "R2 = (15, 0)\n",
    "\n",
    "if do_rectangles_overlap(L1, R1, L2, R2):\n",
    "    print(\"The rectangles overlap.\")\n",
    "else:\n",
    "    print(\"The rectangles do not overlap.\")"
   ]
  }
 ],
 "metadata": {
  "kernelspec": {
   "display_name": "Python 3 (ipykernel)",
   "language": "python",
   "name": "python3"
  },
  "language_info": {
   "codemirror_mode": {
    "name": "ipython",
    "version": 3
   },
   "file_extension": ".py",
   "mimetype": "text/x-python",
   "name": "python",
   "nbconvert_exporter": "python",
   "pygments_lexer": "ipython3",
   "version": "3.11.7"
  }
 },
 "nbformat": 4,
 "nbformat_minor": 5
}
