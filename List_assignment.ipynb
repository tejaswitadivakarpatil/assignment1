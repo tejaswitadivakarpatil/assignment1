{
 "cells": [
  {
   "cell_type": "markdown",
   "id": "7d711921-7ade-4651-bf13-259441c939a3",
   "metadata": {},
   "source": [
    "Q 1 Create 2 lists from a given list where \n",
    "1st list will contain all the odd numbers from the original list and\n",
    "the 2nd one will contain all the even numbers\n",
    "L = [1,2,3,4,5,6]"
   ]
  },
  {
   "cell_type": "code",
   "execution_count": 11,
   "id": "f1af53e0-3e31-4260-91af-09d1eee10976",
   "metadata": {},
   "outputs": [
    {
     "name": "stdout",
     "output_type": "stream",
     "text": [
      "Original list: [1, 2, 3, 4, 5, 6]\n",
      "List of odd numbers: [1, 3, 5]\n",
      "List of even numbers: [2, 4, 6]\n"
     ]
    }
   ],
   "source": [
    "L = [1, 2, 3, 4, 5, 6]\n",
    "\n",
    "# Initialize empty lists to store odd and even numbers\n",
    "odd_numbers = []\n",
    "even_numbers = []\n",
    "\n",
    "# Iterate through the elements of the original list\n",
    "for num in L:\n",
    "    if num % 2 == 0:  # Check if the number is even\n",
    "        even_numbers.append(num)\n",
    "    else:\n",
    "        odd_numbers.append(num)\n",
    "\n",
    "print(\"Original list:\", L)\n",
    "print(\"List of odd numbers:\", odd_numbers)\n",
    "print(\"List of even numbers:\", even_numbers)"
   ]
  },
  {
   "cell_type": "markdown",
   "id": "5e193847-0b67-457f-8b61-d2323efd4ae0",
   "metadata": {},
   "source": [
    "Q 2 How to take list as input from user"
   ]
  },
  {
   "cell_type": "code",
   "execution_count": 3,
   "id": "45fba013-b39c-4ff5-b9e1-d41ed062739f",
   "metadata": {},
   "outputs": [
    {
     "name": "stdin",
     "output_type": "stream",
     "text": [
      " 1,2,3,4,5\n"
     ]
    },
    {
     "name": "stdout",
     "output_type": "stream",
     "text": [
      "['1', '2', '3', '4', '5']\n"
     ]
    }
   ],
   "source": [
    "x=input().split(',')\n",
    "print(x)"
   ]
  },
  {
   "cell_type": "markdown",
   "id": "bb1501b3-9eed-45dd-9a40-3e3a3bf2c911",
   "metadata": {},
   "source": [
    "Q 3 Write a program to merge 2 list without using the + operator\n",
    "L1 = [1,2,3,4]\n",
    "L2 = [5,6,7,8]"
   ]
  },
  {
   "cell_type": "code",
   "execution_count": 4,
   "id": "b2512ad0-bddd-4b16-adc7-f993adf408f3",
   "metadata": {},
   "outputs": [
    {
     "name": "stdout",
     "output_type": "stream",
     "text": [
      "[1, 2, 3, 4, 5, 6, 7, 8]\n"
     ]
    }
   ],
   "source": [
    "l1=[1,2,3,4]\n",
    "l2=[5,6,7,8]\n",
    "l1.extend(l2)\n",
    "print(l1)"
   ]
  },
  {
   "cell_type": "markdown",
   "id": "4a696890-7b3c-497b-9073-0ee863f97233",
   "metadata": {},
   "source": [
    "Q 4 Write a program to replace an item with a different item if found in the list \n",
    "L = [1,2,3,4,5,3]\n",
    "replace 3 with 300"
   ]
  },
  {
   "cell_type": "code",
   "execution_count": 7,
   "id": "228cc94a-c905-4fad-9481-7a40f12e55a4",
   "metadata": {},
   "outputs": [
    {
     "name": "stdout",
     "output_type": "stream",
     "text": [
      "Original list: [1, 2, 300, 4, 5, 300]\n",
      "Modified list: [1, 2, 300, 4, 5, 300]\n"
     ]
    }
   ],
   "source": [
    "def replace_item(li, old_item, new_item):\n",
    "    for i in range(len(li)):\n",
    "        if li[i] == old_item:\n",
    "            li[i] = new_item\n",
    "    return li\n",
    "\n",
    "# Example usage:\n",
    "original_list = [1, 2, 3, 4, 5, 3]\n",
    "old_value = 3\n",
    "new_value = 300\n",
    "\n",
    "# Call the function to replace items in the list\n",
    "modified_list = replace_item(original_list, old_value, new_value)\n",
    "\n",
    "# Print the original and modified lists\n",
    "print(\"Original list:\", original_list)\n",
    "print(\"Modified list:\", modified_list)"
   ]
  },
  {
   "cell_type": "markdown",
   "id": "ac46e667-0e93-4ac1-9f7c-d1c7773e12fa",
   "metadata": {},
   "source": [
    "Q 5 Write a program that can convert a 2D list to 1D list"
   ]
  },
  {
   "cell_type": "code",
   "execution_count": 10,
   "id": "257dd28e-bfda-4c26-b6a9-47a0fd5b9b31",
   "metadata": {},
   "outputs": [
    {
     "name": "stdout",
     "output_type": "stream",
     "text": [
      "Original 2D list: [[1, 2, 3], [4, 5], [6, 7, 8]]\n",
      "Flattened 1D list: [1, 2, 3, 4, 5, 6, 7, 8]\n"
     ]
    }
   ],
   "source": [
    "def flatten_2d_list(two_d_list):\n",
    "    # Initialize an empty list to store the flattened result\n",
    "    one_d_list = []\n",
    "\n",
    "    # Iterate over each sublist in the 2D list\n",
    "    for sublist in two_d_list:\n",
    "        # Extend the one_d_list with the elements of the current sublist\n",
    "        one_d_list.extend(sublist)\n",
    "\n",
    "    return one_d_list\n",
    "\n",
    "# Example 2D list\n",
    "two_d_list = [[1, 2, 3], [4, 5], [6, 7, 8]]\n",
    "\n",
    "# Convert the 2D list to a 1D list\n",
    "one_d_list = flatten_2d_list(two_d_list)\n",
    "\n",
    "# Print the result\n",
    "print(\"Original 2D list:\", two_d_list)\n",
    "print(\"Flattened 1D list:\", one_d_list)"
   ]
  },
  {
   "cell_type": "markdown",
   "id": "1ca7479d-caa2-4f5b-8295-7865b5bb3734",
   "metadata": {},
   "source": [
    "Q 6 Write a program to remove duplicate items from a list\n",
    "L = [1,2,1,2,3,4,5,3,4]"
   ]
  },
  {
   "cell_type": "code",
   "execution_count": 12,
   "id": "bf6afc42-d048-411c-97a4-cb68330f3e56",
   "metadata": {},
   "outputs": [
    {
     "name": "stdout",
     "output_type": "stream",
     "text": [
      "Original list: [1, 2, 1, 2, 3, 4, 5, 3, 4]\n",
      "List after removing duplicates: [1, 2, 3, 4, 5]\n"
     ]
    }
   ],
   "source": [
    "L = [1, 2, 1, 2, 3, 4, 5, 3, 4]\n",
    "\n",
    "# Convert the list to a set to remove duplicates, then convert it back to a list\n",
    "unique_list = list(set(L))\n",
    "\n",
    "print(\"Original list:\", L)\n",
    "print(\"List after removing duplicates:\", unique_list)"
   ]
  },
  {
   "cell_type": "markdown",
   "id": "cd985d6b-1af2-47c7-a338-ac6a37a8b0b3",
   "metadata": {},
   "source": [
    "Q 7 Write a program to check if a list is in ascending order or not"
   ]
  },
  {
   "cell_type": "code",
   "execution_count": 13,
   "id": "803f4799-beeb-4184-9312-1e7577aa523b",
   "metadata": {},
   "outputs": [
    {
     "name": "stdout",
     "output_type": "stream",
     "text": [
      "Original list: [1, 2, 1, 2, 3, 4, 5, 3, 4]\n",
      "List after removing duplicates: [1, 2, 3, 4, 5]\n"
     ]
    }
   ],
   "source": [
    "L = [1, 2, 1, 2, 3, 4, 5, 3, 4]\n",
    "\n",
    "# Convert the list to a set to remove duplicates, then convert it back to a list\n",
    "unique_list = list(set(L))\n",
    "\n",
    "print(\"Original list:\", L)\n",
    "print(\"List after removing duplicates:\", unique_list)"
   ]
  }
 ],
 "metadata": {
  "kernelspec": {
   "display_name": "Python 3 (ipykernel)",
   "language": "python",
   "name": "python3"
  },
  "language_info": {
   "codemirror_mode": {
    "name": "ipython",
    "version": 3
   },
   "file_extension": ".py",
   "mimetype": "text/x-python",
   "name": "python",
   "nbconvert_exporter": "python",
   "pygments_lexer": "ipython3",
   "version": "3.11.7"
  }
 },
 "nbformat": 4,
 "nbformat_minor": 5
}
