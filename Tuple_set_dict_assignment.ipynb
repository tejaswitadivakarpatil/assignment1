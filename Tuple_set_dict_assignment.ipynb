{
 "cells": [
  {
   "cell_type": "markdown",
   "id": "8248d9fb-3f28-41b2-a189-cffd719de98a",
   "metadata": {},
   "source": [
    "# Tuple"
   ]
  },
  {
   "cell_type": "markdown",
   "id": "484b3fb4-82b7-4978-a613-0bf208981b42",
   "metadata": {},
   "source": [
    "Q1: Join Tuples if similar initial element\n",
    "While working with Python tuples, we can have a problem in which we need to perform concatenation of records from the similarity of initial element. \n",
    "This problem can have applications in data domains such as Data Science.\n",
    "\n",
    "For eg.\n",
    "\n",
    "Input  : test_list = [(5, 6), (5, 7), (5, 8), (6, 10), (7, 13)] \n"
   ]
  },
  {
   "cell_type": "code",
   "execution_count": 1,
   "id": "4032a8da-d115-41ff-b482-379b9bc49de1",
   "metadata": {},
   "outputs": [
    {
     "name": "stdout",
     "output_type": "stream",
     "text": [
      "[(5, 6, 7, 8), (6, 10), (7, 13)]\n"
     ]
    }
   ],
   "source": [
    "from collections import defaultdict\n",
    "\n",
    "def join_tuples_by_initial_element(test_list):\n",
    "    grouped_dict = defaultdict(list)\n",
    "    \n",
    "    # Group tuples by the initial element\n",
    "    for item in test_list:\n",
    "        grouped_dict[item[0]].extend(item[1:])\n",
    "    \n",
    "    # Convert the grouped dictionary back to list of tuples\n",
    "    result = [(key, *value) for key, value in grouped_dict.items()]\n",
    "    \n",
    "    return result\n",
    "\n",
    "# Example usage\n",
    "test_list = [(5, 6), (5, 7), (5, 8), (6, 10), (7, 13)]\n",
    "output = join_tuples_by_initial_element(test_list)\n",
    "print(output)"
   ]
  },
  {
   "cell_type": "markdown",
   "id": "c75b1544-d0eb-4406-b2b9-a48b8dcc660a",
   "metadata": {},
   "source": [
    "Q2: Multiply Adjacent elements (both side) and take sum of right and lest side multiplication result.\n",
    "For eg.\n",
    "\n",
    "The original tuple : (1, 5, 7, 8, 10)\n",
    "Resultant tuple after multiplication : \n",
    "\n",
    "(1*5, 1*5+5*7, 7*5 + 7*8, 8*7 + 8*10, 10*8) -> (5, 40, 91, 136, 80)\n",
    "\n",
    "output-(5, 40, 91, 136, 80)"
   ]
  },
  {
   "cell_type": "code",
   "execution_count": 2,
   "id": "86c40ebe-a3fd-42b8-a9ce-84eeec059c34",
   "metadata": {},
   "outputs": [
    {
     "name": "stdout",
     "output_type": "stream",
     "text": [
      "(5, 40, 91, 136, 80)\n"
     ]
    }
   ],
   "source": [
    "def multiply_adjacent_elements(input_tuple):\n",
    "    result = []\n",
    "    n = len(input_tuple)\n",
    "    \n",
    "    for i in range(n):\n",
    "        if i == 0:\n",
    "            # First element\n",
    "            result.append(input_tuple[i] * input_tuple[i + 1])\n",
    "        elif i == n - 1:\n",
    "            # Last element\n",
    "            result.append(input_tuple[i] * input_tuple[i - 1])\n",
    "        else:\n",
    "            # Middle elements\n",
    "            result.append(input_tuple[i] * input_tuple[i - 1] + input_tuple[i] * input_tuple[i + 1])\n",
    "    \n",
    "    return tuple(result)\n",
    "\n",
    "# Example usage\n",
    "input_tuple = (1, 5, 7, 8, 10)\n",
    "output_tuple = multiply_adjacent_elements(input_tuple)\n",
    "print(output_tuple)"
   ]
  },
  {
   "cell_type": "markdown",
   "id": "6eb5fed2-b46b-49ee-a82d-15ab2b8159da",
   "metadata": {},
   "source": [
    "Q3: Check is tuples are same or not?\n",
    "Two tuples would be same if both tuples have same element at same index\n",
    "\n",
    "t1 = (1,2,3,0)\n",
    "t2 = (0,1,2,3)\n",
    "\n",
    "t1 and t2 are not same"
   ]
  },
  {
   "cell_type": "code",
   "execution_count": 3,
   "id": "48d98d88-3826-4740-b09c-051f589e9257",
   "metadata": {},
   "outputs": [
    {
     "name": "stdout",
     "output_type": "stream",
     "text": [
      "t1 and t2 are not the same\n"
     ]
    }
   ],
   "source": [
    "def are_tuples_same(t1, t2):\n",
    "    return t1 == t2\n",
    "\n",
    "# Example usage\n",
    "t1 = (1, 2, 3, 0)\n",
    "t2 = (0, 1, 2, 3)\n",
    "\n",
    "if are_tuples_same(t1, t2):\n",
    "    print(\"t1 and t2 are the same\")\n",
    "else:\n",
    "    print(\"t1 and t2 are not the same\")"
   ]
  },
  {
   "cell_type": "markdown",
   "id": "efcf1b84-29a7-487a-a250-1f1b644138af",
   "metadata": {},
   "source": [
    "Q4: Count no of tuples, list and set from a list\n",
    "list1 = [{'hi', 'bye'},{'Geeks', 'forGeeks'},('a', 'b'),['hi', 'bye'],['a', 'b']]\n",
    "Output:\n",
    "\n",
    "List-2\n",
    "Set-2\n",
    "Tuples-1"
   ]
  },
  {
   "cell_type": "code",
   "execution_count": 4,
   "id": "c56953cf-004b-460a-9469-8f0e7b2c867a",
   "metadata": {},
   "outputs": [
    {
     "name": "stdout",
     "output_type": "stream",
     "text": [
      "List-2\n",
      "Set-2\n",
      "Tuples-1\n"
     ]
    }
   ],
   "source": [
    "def count_types(lst):\n",
    "    tuple_count = 0\n",
    "    list_count = 0\n",
    "    set_count = 0\n",
    "    \n",
    "    for element in lst:\n",
    "        if isinstance(element, tuple):\n",
    "            tuple_count += 1\n",
    "        elif isinstance(element, list):\n",
    "            list_count += 1\n",
    "        elif isinstance(element, set):\n",
    "            set_count += 1\n",
    "    \n",
    "    return list_count, set_count, tuple_count\n",
    "\n",
    "# Example usage\n",
    "list1 = [{'hi', 'bye'}, {'Geeks', 'forGeeks'}, ('a', 'b'), ['hi', 'bye'], ['a', 'b']]\n",
    "list_count, set_count, tuple_count = count_types(list1)\n",
    "\n",
    "print(f\"List-{list_count}\")\n",
    "print(f\"Set-{set_count}\")\n",
    "print(f\"Tuples-{tuple_count}\")"
   ]
  },
  {
   "cell_type": "markdown",
   "id": "0e3c1854-0b4f-4e65-a831-6ba89f4e04cf",
   "metadata": {},
   "source": [
    "Q5: Shortlist Students for a Job role\n",
    "Ask user to input students record and store in tuples for each record. Then Ask user to input three things he wants in the candidate-\n",
    "Primary Skill, Higher Education, Year of Graduation.\n",
    "\n",
    "Show every students record in form of tuples if matches all required criteria.\n",
    "\n",
    "It is assumed that there will be only one primry skill.\n",
    "\n",
    "If no such candidate found, print No such candidate\n",
    "Input:\n",
    "\n",
    "Enter No of records- 2\n",
    "Enter Details of student-1\n",
    "Enter Student name- Manohar\n",
    "Enter Higher Education- B.Tech\n",
    "Enter Primary Skill- Python\n",
    "Enter Year of Graduation- 2022\n",
    "Enter Details of student-2\n",
    "Enter Student name- Ponian\n",
    "Enter Higher Education- B.Sc.\n",
    "Enter Primary Skill- C++\n",
    "Enter Year of Graduation- 2020\n",
    "\n",
    "Enter Job Role Requirement\n",
    "Enter Skill- Python\n",
    "Enter Higher Education- B.Tech\n",
    "Enter Year of Graduation- 2022\n",
    "Output\n",
    "\n",
    "('Manohar', 'B.tech', 'Python', '2022')\n",
    "\n"
   ]
  },
  {
   "cell_type": "code",
   "execution_count": 1,
   "id": "1e6f069b-acdc-49c9-b057-fe7eb59fb521",
   "metadata": {},
   "outputs": [
    {
     "name": "stdin",
     "output_type": "stream",
     "text": [
      "Enter No of records-  2\n"
     ]
    },
    {
     "name": "stdout",
     "output_type": "stream",
     "text": [
      "Enter Details of student-1\n"
     ]
    },
    {
     "name": "stdin",
     "output_type": "stream",
     "text": [
      "Enter Student name-  manohar\n",
      "Enter Higher Education-  B.tech\n",
      "Enter Primary Skill-  python\n",
      "Enter Year of Graduation-  2022\n"
     ]
    },
    {
     "name": "stdout",
     "output_type": "stream",
     "text": [
      "Enter Details of student-2\n"
     ]
    },
    {
     "name": "stdin",
     "output_type": "stream",
     "text": [
      "Enter Student name-  ponian\n",
      "Enter Higher Education-  B.Sc.\n",
      "Enter Primary Skill-  c++\n",
      "Enter Year of Graduation-  2020\n"
     ]
    },
    {
     "name": "stdout",
     "output_type": "stream",
     "text": [
      "\n",
      "Enter Job Role Requirement\n"
     ]
    },
    {
     "name": "stdin",
     "output_type": "stream",
     "text": [
      "Enter Skill-  python\n",
      "Enter Higher Education-  B.Tech\n",
      "Enter Year of Graduation-  2022\n"
     ]
    },
    {
     "name": "stdout",
     "output_type": "stream",
     "text": [
      "No such candidate\n"
     ]
    }
   ],
   "source": [
    "def get_student_records(num_records):\n",
    "    students = []\n",
    "    for i in range(num_records):\n",
    "        print(f\"Enter Details of student-{i + 1}\")\n",
    "        name = input(\"Enter Student name- \")\n",
    "        education = input(\"Enter Higher Education- \")\n",
    "        skill = input(\"Enter Primary Skill- \")\n",
    "        year = int(input(\"Enter Year of Graduation- \"))\n",
    "        students.append((name, education, skill, year))\n",
    "    return students\n",
    "\n",
    "def get_job_requirements():\n",
    "    print(\"\\nEnter Job Role Requirement\")\n",
    "    skill = input(\"Enter Skill- \")\n",
    "    education = input(\"Enter Higher Education- \")\n",
    "    year = int(input(\"Enter Year of Graduation- \"))\n",
    "    return skill, education, year\n",
    "\n",
    "def shortlist_students(students, requirements):\n",
    "    skill, education, year = requirements\n",
    "    shortlisted = [student for student in students if student[2] == skill and student[1] == education and student[3] == year]\n",
    "    return shortlisted\n",
    "\n",
    "# Main program\n",
    "num_records = int(input(\"Enter No of records- \"))\n",
    "students = get_student_records(num_records)\n",
    "requirements = get_job_requirements()\n",
    "\n",
    "shortlisted_students = shortlist_students(students, requirements)\n",
    "\n",
    "if shortlisted_students:\n",
    "    for student in shortlisted_students:\n",
    "        print(student)\n",
    "else:\n",
    "    print(\"No such candidate\")"
   ]
  },
  {
   "cell_type": "markdown",
   "id": "12ac51f8-d40f-4bfa-b507-e1df2ae1f634",
   "metadata": {},
   "source": [
    "# Set"
   ]
  },
  {
   "cell_type": "markdown",
   "id": "efca0441-a30c-4205-b278-cd0877349af0",
   "metadata": {},
   "source": [
    "Q1: Write a program to find set of common elements in three lists using sets.\n",
    "Input : ar1 = [1, 5, 10, 20, 40, 80]\n",
    "        ar2 = [6, 7, 20, 80, 100]\n",
    "        ar3 = [3, 4, 15, 20, 30, 70, 80, 120]\n",
    "\n",
    "Output : [80, 20]"
   ]
  },
  {
   "cell_type": "code",
   "execution_count": 6,
   "id": "b8ea8420-b7f4-4dd4-8dda-2a33f1899b77",
   "metadata": {},
   "outputs": [
    {
     "name": "stdout",
     "output_type": "stream",
     "text": [
      "[80, 20]\n"
     ]
    }
   ],
   "source": [
    "def find_common_elements(ar1, ar2, ar3):\n",
    "    # Convert lists to sets\n",
    "    set1 = set(ar1)\n",
    "    set2 = set(ar2)\n",
    "    set3 = set(ar3)\n",
    "\n",
    "    # Find the intersection of the three sets\n",
    "    common_elements = set1.intersection(set2).intersection(set3)\n",
    "\n",
    "    # Convert the result back to a list (sorted if necessary)\n",
    "    return list(common_elements)\n",
    "\n",
    "# Input lists\n",
    "ar1 = [1, 5, 10, 20, 40, 80]\n",
    "ar2 = [6, 7, 20, 80, 100]\n",
    "ar3 = [3, 4, 15, 20, 30, 70, 80, 120]\n",
    "\n",
    "# Find common elements\n",
    "result = find_common_elements(ar1, ar2, ar3)\n",
    "\n",
    "# Print the result\n",
    "print(result)"
   ]
  },
  {
   "cell_type": "markdown",
   "id": "064296c6-8a8c-4526-92c8-44b27547610a",
   "metadata": {},
   "source": [
    "Q2: Write a program to count unique number of vowels using sets in a given string. \n",
    "Lowercase and upercase vowels will be taken as different.\n",
    "Input:\n",
    "\n",
    "Str1 = \"hands-on data science mentorship progrAm with live classes at affordable fee only on CampusX\"\n",
    "Output:\n",
    "\n",
    "No of unique vowels-6"
   ]
  },
  {
   "cell_type": "code",
   "execution_count": 7,
   "id": "63d48190-d575-4999-87ee-58b3a67023ae",
   "metadata": {},
   "outputs": [
    {
     "name": "stdout",
     "output_type": "stream",
     "text": [
      "No of unique vowels-6\n"
     ]
    }
   ],
   "source": [
    "def count_unique_vowels(input_string):\n",
    "    # Define a set of vowels (including both lowercase and uppercase)\n",
    "    vowels = {'a', 'e', 'i', 'o', 'u', 'A', 'E', 'I', 'O', 'U'}\n",
    "    \n",
    "    # Use a set to store unique vowels found in the input string\n",
    "    unique_vowels = set()\n",
    "    \n",
    "    # Iterate through each character in the string\n",
    "    for char in input_string:\n",
    "        # If the character is a vowel, add it to the set of unique vowels\n",
    "        if char in vowels:\n",
    "            unique_vowels.add(char)\n",
    "    \n",
    "    # Return the number of unique vowels\n",
    "    return len(unique_vowels)\n",
    "\n",
    "# Input string\n",
    "Str1 = \"hands-on data science mentorship progrAm with live classes at affordable fee only on CampusX\"\n",
    "\n",
    "# Count unique vowels\n",
    "unique_vowel_count = count_unique_vowels(Str1)\n",
    "# Print the result\n",
    "print(f\"No of unique vowels-{unique_vowel_count}\")\n"
   ]
  },
  {
   "cell_type": "markdown",
   "id": "b7f18214-a097-42a4-b6a9-b6b5f2016d86",
   "metadata": {},
   "source": [
    "Q3: Write a program to Check if a given string is binary string of or not.\n",
    "A string is said to be binary if it's consists of only two unique characters.\n",
    "\n",
    "Take string input from user.\n",
    "\n",
    "Input: str = \"01010101010\"\n",
    "Output: Yes\n",
    "\n",
    "Input: str = \"1222211\"\n",
    "Output: Yes\n",
    "\n",
    "Input: str = \"Campusx\"\n",
    "Output: No"
   ]
  },
  {
   "cell_type": "code",
   "execution_count": 9,
   "id": "808604df-15dd-4811-91d7-72d58d370575",
   "metadata": {},
   "outputs": [
    {
     "name": "stdin",
     "output_type": "stream",
     "text": [
      "Enter a string:  01010101010\n"
     ]
    },
    {
     "name": "stdout",
     "output_type": "stream",
     "text": [
      "Yes\n"
     ]
    }
   ],
   "source": [
    "def is_binary_string(input_string):\n",
    "    # Use a set to store unique characters found in the input string\n",
    "    unique_chars = set(input_string)\n",
    "    \n",
    "    # Check if the number of unique characters is exactly 2\n",
    "    if len(unique_chars) == 2:\n",
    "        return \"Yes\"\n",
    "    else:\n",
    "        return \"No\"\n",
    "\n",
    "# Take string input from the user\n",
    "input_string = input(\"Enter a string: \")\n",
    "\n",
    "# Check if the input string is binary\n",
    "result = is_binary_string(input_string)\n",
    "\n",
    "# Print the result\n",
    "print(result)"
   ]
  },
  {
   "cell_type": "markdown",
   "id": "a18ebe1a-5d28-4d3b-8968-525d348320d8",
   "metadata": {},
   "source": [
    "Q4: find union of n arrays.\n",
    "Example 1:\n",
    "\n",
    "Input:\n",
    "\n",
    "[[1, 2, 2, 4, 3, 6],\n",
    " [5, 1, 3, 4],\n",
    " [9, 5, 7, 1],\n",
    " [2, 4, 1, 3]]\n",
    "Output:\n",
    "\n",
    "[1, 2, 3, 4, 5, 6, 7, 9]"
   ]
  },
  {
   "cell_type": "code",
   "execution_count": 14,
   "id": "ca1e9395-87ba-4e23-8e3e-20e60a4eb978",
   "metadata": {},
   "outputs": [
    {
     "name": "stdout",
     "output_type": "stream",
     "text": [
      "[1, 2, 3, 4, 5, 6, 7, 9]\n"
     ]
    }
   ],
   "source": [
    "def union_of_arrays(arrays):\n",
    "    union_set = set()\n",
    "    \n",
    "    for array in arrays:\n",
    "        union_set.update(array)\n",
    "    \n",
    "    return sorted(union_set)\n",
    "\n",
    "# Example usage\n",
    "arrays = [\n",
    "    [1, 2, 2, 4, 3, 6],\n",
    "    [5, 1, 3, 4],\n",
    "    [9, 5, 7, 1],\n",
    "    [2, 4, 1, 3]\n",
    "]\n",
    "\n",
    "result = union_of_arrays(arrays)\n",
    "print(result)  # Output: [1, 2, 3, 4, 5, 6, 7, 9]"
   ]
  },
  {
   "cell_type": "markdown",
   "id": "142d8ae8-dac3-4516-870f-c6a04204cae9",
   "metadata": {},
   "source": [
    "Q5: Intersection of two lists. Intersection of two list means we need to take all \n",
    "those elements which are common to both of the initial lists and store them into another list. Only use using list-comprehension.\n",
    "Example 1:\n",
    "\n",
    "Input:\n",
    "\n",
    "lst1 = {15, 9, 10, 56, 23, 78, 5, 4, 9}\n",
    "lst2 = {9, 4, 5, 36, 47, 26, 10, 45, 87}\n",
    "Output:\n",
    "\n",
    "[9, 10, 4, 5]\n",
    "Example 2:\n",
    "Input:\n",
    "\n",
    "lst1 = {4, 9, 1, 17, 11, 26, 28, 54, 69}\n",
    "lst2 = {9, 9, 74, 21, 45, 11, 63, 28, 26}\n",
    "Output:\n",
    "\n",
    "[9, 11, 26, 28]"
   ]
  },
  {
   "cell_type": "code",
   "execution_count": 15,
   "id": "99babeca-897b-4636-a3b8-3004ebae9631",
   "metadata": {},
   "outputs": [
    {
     "name": "stdout",
     "output_type": "stream",
     "text": [
      "[4, 5, 9, 10]\n",
      "[9, 11, 26, 28]\n"
     ]
    }
   ],
   "source": [
    "def intersection_of_lists(lst1, lst2):\n",
    "    return [element for element in lst1 if element in lst2]\n",
    "\n",
    "# Example usage 1\n",
    "lst1 = {15, 9, 10, 56, 23, 78, 5, 4, 9}\n",
    "lst2 = {9, 4, 5, 36, 47, 26, 10, 45, 87}\n",
    "result1 = intersection_of_lists(lst1, lst2)\n",
    "print(result1)  # Output: [9, 10, 4, 5]\n",
    "\n",
    "# Example usage 2\n",
    "lst1 = {4, 9, 1, 17, 11, 26, 28, 54, 69}\n",
    "lst2 = {9, 9, 74, 21, 45, 11, 63, 28, 26}\n",
    "result2 = intersection_of_lists(lst1, lst2)\n",
    "print(result2)  # Output: [9, 11, 26, 28]"
   ]
  },
  {
   "cell_type": "markdown",
   "id": "10dc6067-8868-41e1-82d3-b06cd2cf8aac",
   "metadata": {},
   "source": [
    "# Dictionary"
   ]
  },
  {
   "cell_type": "markdown",
   "id": "1eaa5845-2572-4e0e-a592-11907e617bbd",
   "metadata": {},
   "source": [
    "Q1: Key with maximum unique values\n",
    "Given a dictionary with values list, extract key whose value has most unique values.\n",
    "\n",
    "Example 1:\n",
    "\n",
    "Input:\n",
    "\n",
    "test_dict = {\"CampusX\" : [5, 7, 9, 4, 0], \"is\" : [6, 7, 4, 3, 3], \"Best\" : [9, 9, 6, 5, 5]}\n",
    "Output:\n",
    "\n",
    "CampusX\n",
    "Example 2:\n",
    "\n",
    "Input:\n",
    "\n",
    "test_dict = {\"CampusX\" : [5, 7, 7, 7, 7], \"is\" : [6, 7, 7, 7], \"Best\" : [9, 9, 6, 5, 5]}\n",
    "Output:\n",
    "\n",
    "Best"
   ]
  },
  {
   "cell_type": "code",
   "execution_count": 5,
   "id": "835ec07a-994f-4cba-a208-88d4be8620cf",
   "metadata": {},
   "outputs": [
    {
     "name": "stdout",
     "output_type": "stream",
     "text": [
      "CampusX\n",
      "Best\n"
     ]
    }
   ],
   "source": [
    "def key_with_max_unique_values(test_dict):\n",
    "    max_unique_count = 0\n",
    "    max_key = None\n",
    "    \n",
    "    for key, values in test_dict.items():\n",
    "        unique_values_count = len(set(values))\n",
    "        if unique_values_count > max_unique_count:\n",
    "            max_unique_count = unique_values_count\n",
    "            max_key = key\n",
    "            \n",
    "    return max_key\n",
    "\n",
    "# Example usage 1\n",
    "test_dict1 = {\"CampusX\" : [5, 7, 9, 4, 0], \"is\" : [6, 7, 4, 3, 3], \"Best\" : [9, 9, 6, 5, 5]}\n",
    "print(key_with_max_unique_values(test_dict1))  # Output: CampusX\n",
    "\n",
    "# Example usage 2\n",
    "test_dict2 = {\"CampusX\" : [5, 7, 7, 7, 7], \"is\" : [6, 7, 7, 7], \"Best\" : [9, 9, 6, 5, 5]}\n",
    "print(key_with_max_unique_values(test_dict2))  # Output: Best"
   ]
  },
  {
   "cell_type": "markdown",
   "id": "91af13ff-99d5-4bd4-8265-fc8ee92b0fcd",
   "metadata": {},
   "source": [
    "Q2: Replace words from Dictionary. Given String, replace it’s words from lookup dictionary.\n",
    "Example 1:\n",
    "\n",
    "Input:\n",
    "\n",
    "test_str = 'CampusX best for DS students.'\n",
    "repl_dict = {\"best\" : \"is the best channel\", \"DS\" : \"Data-Science\"}\n",
    "Output:\n",
    "\n",
    "CampusX is the best channel for Data-Science students.\n",
    "Example 2:\n",
    "\n",
    "Input:\n",
    "\n",
    "test_str = 'CampusX best for DS students.'\n",
    "repl_dict = {\"good\" : \"is the best channel\", \"ds\" : \"Data-Science\"}\n",
    "Output:\n",
    "\n",
    "CampusX best for DS students."
   ]
  },
  {
   "cell_type": "code",
   "execution_count": 1,
   "id": "abe6bab9-7f05-414c-845b-8c6e3f894d95",
   "metadata": {},
   "outputs": [
    {
     "name": "stdout",
     "output_type": "stream",
     "text": [
      "CampusX is the best channel for Data-Science students.\n"
     ]
    }
   ],
   "source": [
    "def replace_words_from_dict(test_str, repl_dict):\n",
    "    # Split the input string into words\n",
    "    words = test_str.split()\n",
    "    \n",
    "    # Initialize a list to store the modified words\n",
    "    replaced_words = []\n",
    "    \n",
    "    # Iterate through each word in the list\n",
    "    for word in words:\n",
    "        # Check if the word exists in the replacement dictionary\n",
    "        if word in repl_dict:\n",
    "            replaced_words.append(repl_dict[word])  # Replace with the value from the dictionary\n",
    "        else:\n",
    "            replaced_words.append(word)  # Keep the original word if not found in the dictionary\n",
    "    \n",
    "    # Join the list of words into a single string\n",
    "    replaced_str = ' '.join(replaced_words)\n",
    "    \n",
    "    return replaced_str\n",
    "\n",
    "# Example usage:\n",
    "test_str = 'CampusX best for DS students.'\n",
    "repl_dict = {\"best\": \"is the best channel\", \"DS\": \"Data-Science\"}\n",
    "\n",
    "output_str = replace_words_from_dict(test_str, repl_dict)\n",
    "print(output_str)  # Output: CampusX is the best channel for Data-Science students"
   ]
  },
  {
   "cell_type": "markdown",
   "id": "2c08f9d9-bec9-49b1-9fb0-166359f86a25",
   "metadata": {},
   "source": [
    "Q3: Convert List to List of dictionaries. Given list values and keys list, \n",
    "convert these values to key value pairs in form of list of dictionaries.\n",
    "Example 1:\n",
    "\n",
    "Input:\n",
    "\n",
    "test_list = [\"DataScience\", 3, \"is\", 8]\n",
    "key_list = [\"name\", \"id\"]\n",
    "Output:\n",
    "\n",
    "[{'name': 'DataScience', 'id': 3}, {'name': 'is', 'id': 8}]\n",
    "Example 2:\n",
    "\n",
    "Input:\n",
    "\n",
    "test_list = [\"CampusX\", 10]\n",
    "key_list = [\"name\", \"id\"]\n",
    "Output:\n",
    "\n",
    "[{'name': 'CampusX', 'id': 10}]"
   ]
  },
  {
   "cell_type": "code",
   "execution_count": 2,
   "id": "6c121850-47a9-433c-b620-ca8772ea7d8a",
   "metadata": {},
   "outputs": [
    {
     "name": "stdout",
     "output_type": "stream",
     "text": [
      "[{'name': 'DataScience', 'id': 3}, {'name': 'is', 'id': 8}]\n"
     ]
    }
   ],
   "source": [
    "def convert_to_dict_list(input_list, key_list):\n",
    "    # Calculate number of dictionaries needed\n",
    "    num_dicts = len(input_list) // len(key_list)\n",
    "    \n",
    "    # Initialize an empty list to store dictionaries\n",
    "    result_list = []\n",
    "    \n",
    "    # Iterate over the range of number of dictionaries\n",
    "    for i in range(num_dicts):\n",
    "        # Calculate starting index for each dictionary\n",
    "        start_idx = i * len(key_list)\n",
    "        # Slice the input list to get the current dictionary's values\n",
    "        values = input_list[start_idx:start_idx + len(key_list)]\n",
    "        # Create dictionary by zipping keys and values\n",
    "        dictionary = dict(zip(key_list, values))\n",
    "        # Append dictionary to result list\n",
    "        result_list.append(dictionary)\n",
    "    \n",
    "    return result_list\n",
    "\n",
    "# Example usage:\n",
    "test_list = [\"DataScience\", 3, \"is\", 8]\n",
    "key_list = [\"name\", \"id\"]\n",
    "output = convert_to_dict_list(test_list, key_list)\n",
    "print(output)"
   ]
  },
  {
   "cell_type": "markdown",
   "id": "02e5ddbb-37af-445e-95b8-1fe5c746e985",
   "metadata": {},
   "source": [
    "Q4: Convert a list of Tuples into Dictionary.\n",
    "Example 1:\n",
    "\n",
    "Input:\n",
    "\n",
    "[(\"akash\", 10), (\"gaurav\", 12), (\"anand\", 14), (\"suraj\", 20), (\"akhil\", 25), (\"ashish\", 30)]\n",
    "Output:\n",
    "\n",
    "{'akash': [10], 'gaurav': [12], 'anand': [14], 'suraj': [20], 'akhil': [25], 'ashish': [30]}\n",
    "Example 2:\n",
    "\n",
    "Input:\n",
    "\n",
    "[('A', 1), ('B', 2), ('C', 3)]\n",
    "Output:\n",
    "\n",
    "{'A': [1], 'B': [2], 'C': [3]}"
   ]
  },
  {
   "cell_type": "code",
   "execution_count": 3,
   "id": "c75eefaa-692a-4464-915f-c0dcdf2a806b",
   "metadata": {},
   "outputs": [
    {
     "name": "stdout",
     "output_type": "stream",
     "text": [
      "{'akash': [10], 'gaurav': [12], 'anand': [14], 'suraj': [20], 'akhil': [25], 'ashish': [30]}\n"
     ]
    }
   ],
   "source": [
    "# Input list of tuples\n",
    "input_list = [(\"akash\", 10), (\"gaurav\", 12), (\"anand\", 14), (\"suraj\", 20), (\"akhil\", 25), (\"ashish\", 30)]\n",
    "\n",
    "# Convert list of tuples to dictionary\n",
    "output_dict = {key: [value] for key, value in input_list}\n",
    "\n",
    "# Print the output dictionary\n",
    "print(output_dict)"
   ]
  },
  {
   "cell_type": "markdown",
   "id": "5544a917-1721-4746-a1f4-816532492471",
   "metadata": {},
   "source": [
    " Q5: Sort Dictionary key and values List.\n",
    "Example 1:\n",
    "\n",
    "Input:\n",
    "\n",
    "{'c': [3], 'b': [12, 10], 'a': [19, 4]}\n",
    "Output:\n",
    "\n",
    "{'a': [4, 19], 'b': [10, 12], 'c': [3]}\n",
    "Example 2:\n",
    "\n",
    "Input:\n",
    "\n",
    "{'c': [10, 34, 3]}\n",
    "Output:\n",
    "\n",
    "{'c': [3, 10, 34]}"
   ]
  },
  {
   "cell_type": "code",
   "execution_count": 4,
   "id": "129eaa5c-acff-461b-915a-e7ff384a5401",
   "metadata": {},
   "outputs": [
    {
     "name": "stdout",
     "output_type": "stream",
     "text": [
      "{'a': [4, 19], 'b': [10, 12], 'c': [3]}\n"
     ]
    }
   ],
   "source": [
    "def sort_dict_values(input_dict):\n",
    "    sorted_dict = {}  # Initialize an empty dictionary to store the sorted results\n",
    "    \n",
    "    # Step 1: Sort keys alphabetically\n",
    "    sorted_keys = sorted(input_dict.keys())\n",
    "    \n",
    "    # Step 2: Sort values for each key in ascending order\n",
    "    for key in sorted_keys:\n",
    "        sorted_dict[key] = sorted(input_dict[key])\n",
    "        \n",
    "    return sorted_dict\n",
    "\n",
    "# Example usage:\n",
    "input_dict = {'c': [3], 'b': [12, 10], 'a': [19, 4]}\n",
    "output_dict = sort_dict_values(input_dict)\n",
    "print(output_dict)"
   ]
  }
 ],
 "metadata": {
  "kernelspec": {
   "display_name": "Python 3 (ipykernel)",
   "language": "python",
   "name": "python3"
  },
  "language_info": {
   "codemirror_mode": {
    "name": "ipython",
    "version": 3
   },
   "file_extension": ".py",
   "mimetype": "text/x-python",
   "name": "python",
   "nbconvert_exporter": "python",
   "pygments_lexer": "ipython3",
   "version": "3.11.7"
  }
 },
 "nbformat": 4,
 "nbformat_minor": 5
}
