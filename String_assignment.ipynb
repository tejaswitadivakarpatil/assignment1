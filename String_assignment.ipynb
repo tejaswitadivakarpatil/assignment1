{
 "cells": [
  {
   "cell_type": "markdown",
   "id": "c26db7c5-1079-4f9f-a3a4-5cd38627042b",
   "metadata": {},
   "source": [
    "Q.1 find the length of given string (given by user) without using len() function"
   ]
  },
  {
   "cell_type": "code",
   "execution_count": 5,
   "id": "d6704897-3ec7-42df-9a71-dba6a122d176",
   "metadata": {},
   "outputs": [
    {
     "name": "stdin",
     "output_type": "stream",
     "text": [
      "take input from user sakshi varpe\n"
     ]
    },
    {
     "name": "stdout",
     "output_type": "stream",
     "text": [
      "lenght of string is 12\n"
     ]
    }
   ],
   "source": [
    "s=input(\"take input from user\")\n",
    "count=0\n",
    "for i in s:\n",
    "    count +=1\n",
    "print(\"lenght of string is\",count)   \n"
   ]
  },
  {
   "cell_type": "markdown",
   "id": "a66c0f35-38b6-4d92-aec0-cea400f874ed",
   "metadata": {},
   "source": [
    "Q.2 extract userid from given mail i'd eg. if the mail is chetan24jagtap@gmail.com\n",
    "then user name sholud be  \"chetan24jagtap\"\n"
   ]
  },
  {
   "cell_type": "code",
   "execution_count": 8,
   "id": "1d42e121-71ce-408c-b78d-64c2c78433a4",
   "metadata": {},
   "outputs": [
    {
     "name": "stdin",
     "output_type": "stream",
     "text": [
      "enter your email_id chetan24jagtap@gmail.com\n"
     ]
    },
    {
     "name": "stdout",
     "output_type": "stream",
     "text": [
      "chetan24jagtap\n"
     ]
    }
   ],
   "source": [
    "mail_id=input(\"enter your email_id\")\n",
    "poss = mail_id.index(\"@\")\n",
    "print(mail_id[0:poss])"
   ]
  },
  {
   "cell_type": "markdown",
   "id": "ad41c972-fd17-4c64-9424-63e5b62e5571",
   "metadata": {},
   "source": [
    "Q.3 count the frequency of particular character in provided string\n",
    "Eg. \"hello how are you\" is the string ,\n",
    "the frequency of \"h\" in this string is 2\n",
    "without using count function \n"
   ]
  },
  {
   "cell_type": "markdown",
   "id": "aab0e4b6-a7a8-4c85-b84d-fc2bb61ae2b9",
   "metadata": {},
   "source": [
    "Q.3 count the frequency of particular character in provided string\n",
    "Eg. \"hello how are you\" is the string ,\n",
    "the frequency of \"h\" in this string is 2\n",
    "without using count function \n"
   ]
  },
  {
   "cell_type": "code",
   "execution_count": 5,
   "id": "efdaa86e-83c3-4e1b-a055-0ced94af2a19",
   "metadata": {},
   "outputs": [
    {
     "name": "stdin",
     "output_type": "stream",
     "text": [
      "enter your string hello how are you\n",
      "what would you like to search h\n"
     ]
    },
    {
     "name": "stdout",
     "output_type": "stream",
     "text": [
      "frequency of your char is 2\n"
     ]
    }
   ],
   "source": [
    "s=input(\"enter your string\")\n",
    "term=input(\"what would you like to search\")\n",
    "counter=0\n",
    "for i in s:\n",
    "    if i == term:\n",
    "        counter +=1\n",
    "print(\"frequency of your char is\",counter)        "
   ]
  },
  {
   "cell_type": "markdown",
   "id": "218885ca-4cdf-434a-8807-aceefe6a295e",
   "metadata": {},
   "source": [
    "Q.4 write a program which can remove\n",
    "a particular chracter from string\n"
   ]
  },
  {
   "cell_type": "code",
   "execution_count": 8,
   "id": "9fda618b-b57e-4900-8e58-6a57960f6df1",
   "metadata": {},
   "outputs": [
    {
     "name": "stdin",
     "output_type": "stream",
     "text": [
      "take a string hello how are you\n",
      "give character you want to remove h\n"
     ]
    },
    {
     "name": "stdout",
     "output_type": "stream",
     "text": [
      "ello ow are you\n"
     ]
    }
   ],
   "source": [
    "s=input(\"take a string\")\n",
    "term=input(\"give character you want to remove\")\n",
    "result=\"\"\n",
    "for i in s:\n",
    "    if i !=term:\n",
    "        result=result+i\n",
    "print(result)        \n",
    "        \n",
    "    "
   ]
  },
  {
   "cell_type": "markdown",
   "id": "d79da054-869e-4263-9ffa-fe499c85617c",
   "metadata": {},
   "source": [
    "Q.5  write a program that can check whether a given string is palindrome or not.\n",
    "abba\n",
    "malayalam\n",
    "   "
   ]
  },
  {
   "cell_type": "code",
   "execution_count": 6,
   "id": "f22b26ca-c3f8-4509-8ba8-57120242c54f",
   "metadata": {},
   "outputs": [
    {
     "name": "stdin",
     "output_type": "stream",
     "text": [
      "Enter a string:  malayam\n"
     ]
    },
    {
     "name": "stdout",
     "output_type": "stream",
     "text": [
      "The entered string is not a palindrome\n"
     ]
    }
   ],
   "source": [
    "def is_palindrome(input_str):\n",
    "    # Convert the string to lowercase to handle case-insensitive palindromes\n",
    "    input_str = input_str.lower()\n",
    "    \n",
    "    # Reverse the string\n",
    "    reversed_str = input_str[::-1]\n",
    "    \n",
    "    # Check if the original string is equal to its reverse\n",
    "    return input_str == reversed_str\n",
    "\n",
    "# Input the string from the keyboard\n",
    "input_string1 = input(\"Enter a string: \")\n",
    "\n",
    "\n",
    "# Check if the string is a palindrome\n",
    "if is_palindrome(input_string1):\n",
    "    print(\"The entered string is a palindrome\")\n",
    "else:\n",
    "    print(\"The entered string is not a palindrome\")"
   ]
  },
  {
   "cell_type": "markdown",
   "id": "1786daf6-7cd7-4ecd-9c27-baba30f5b2f2",
   "metadata": {},
   "source": [
    "Q.6 write a program to count the number of words in a string split()    "
   ]
  },
  {
   "cell_type": "code",
   "execution_count": 7,
   "id": "f9399d73-b6d2-4965-95f2-be3e9bd895e6",
   "metadata": {},
   "outputs": [
    {
     "name": "stdin",
     "output_type": "stream",
     "text": [
      "Enter a string:  i am a computer science student\n"
     ]
    },
    {
     "name": "stdout",
     "output_type": "stream",
     "text": [
      "Number of words in the string: 6\n"
     ]
    }
   ],
   "source": [
    "def count_words(input_str):\n",
    "    # Initialize a word count variable\n",
    "    word_count = 0\n",
    "    \n",
    "    # Initialize a flag to track if a word has started\n",
    "    in_word = False\n",
    "    \n",
    "    # Iterate over each character in the string\n",
    "    for char in input_str:\n",
    "        # If the character is a space and we were in a word, increment the word count\n",
    "        if char == ' ' and in_word:\n",
    "            word_count += 1\n",
    "            in_word = False\n",
    "        # If the character is not a space, mark that we are in a word\n",
    "        elif char != ' ':\n",
    "            in_word = True\n",
    "    \n",
    "    # If we were in a word at the end of the string, increment the word count for the last word\n",
    "    if in_word:\n",
    "        word_count += 1\n",
    "    \n",
    "    return word_count\n",
    "\n",
    "# Input the string from the keyboard\n",
    "input_string = input(\"Enter a string: \")\n",
    "\n",
    "# Count the number of words in the string\n",
    "num_words = count_words(input_string)\n",
    "\n",
    "# Print the result\n",
    "print(\"Number of words in the string:\", num_words)"
   ]
  },
  {
   "cell_type": "markdown",
   "id": "de65ca1a-4791-41e7-aedf-0605feda8acf",
   "metadata": {},
   "source": [
    "Q.7 write a python program to convert a string to title case without using the title()\n"
   ]
  },
  {
   "cell_type": "code",
   "execution_count": 8,
   "id": "0e788278-9253-4aed-92bd-5445699aa8a1",
   "metadata": {},
   "outputs": [
    {
     "name": "stdin",
     "output_type": "stream",
     "text": [
      "Enter a string:  coding in python is an intresting job\n"
     ]
    },
    {
     "name": "stdout",
     "output_type": "stream",
     "text": [
      "String in title case: Coding In Python Is An Intresting Job\n"
     ]
    }
   ],
   "source": [
    "def to_title_case(input_str):\n",
    "    title_case_str = \"\"\n",
    "    capitalize_next = True\n",
    "\n",
    "    for char in input_str:\n",
    "        if char.isalpha():\n",
    "            if capitalize_next:\n",
    "                title_case_str += char.upper()\n",
    "                capitalize_next = False\n",
    "            else:\n",
    "                title_case_str += char.lower()\n",
    "        else:\n",
    "            title_case_str += char\n",
    "            capitalize_next = True\n",
    "\n",
    "    return title_case_str\n",
    "\n",
    "# Input the string from the keyboard\n",
    "input_string = input(\"Enter a string: \")\n",
    "\n",
    "# Convert the string to title case\n",
    "title_case_string = to_title_case(input_string)\n",
    "\n",
    "# Print the result\n",
    "print(\"String in title case:\", title_case_string)"
   ]
  }
 ],
 "metadata": {
  "kernelspec": {
   "display_name": "Python 3 (ipykernel)",
   "language": "python",
   "name": "python3"
  },
  "language_info": {
   "codemirror_mode": {
    "name": "ipython",
    "version": 3
   },
   "file_extension": ".py",
   "mimetype": "text/x-python",
   "name": "python",
   "nbconvert_exporter": "python",
   "pygments_lexer": "ipython3",
   "version": "3.11.7"
  }
 },
 "nbformat": 4,
 "nbformat_minor": 5
}
