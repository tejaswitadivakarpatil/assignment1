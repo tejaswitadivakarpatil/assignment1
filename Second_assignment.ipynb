{
 "cells": [
  {
   "cell_type": "markdown",
   "id": "a7a054dc-5246-4bb7-b136-cbe567d72264",
   "metadata": {},
   "source": [
    "Second Assignment"
   ]
  },
  {
   "cell_type": "markdown",
   "id": "c1e162b9-26aa-4f92-bc88-a9585e2d2331",
   "metadata": {},
   "source": [
    "Q1. Print the following pattern. Write a program to use for loop to print the following reverse number pattern.\n",
    "5 4 3 2 1 \n",
    "4 3 2 1 \n",
    "3 2 1 \n",
    "2 1 \n",
    "1\n"
   ]
  },
  {
   "cell_type": "code",
   "execution_count": 1,
   "id": "bdcc45db-8e5e-421c-b254-b55039fbf4ee",
   "metadata": {},
   "outputs": [
    {
     "name": "stdout",
     "output_type": "stream",
     "text": [
      "5 4 3 2 1 \n",
      "4 3 2 1 \n",
      "3 2 1 \n",
      "2 1 \n",
      "1 \n"
     ]
    }
   ],
   "source": [
    "def print_reverse_number_pattern(n):\n",
    "    \"\"\"\n",
    "    Print the reverse number pattern as described.\n",
    "    \n",
    "    Parameters:\n",
    "    n (int): The number of rows in the pattern.\n",
    "    \"\"\"\n",
    "    for i in range(n, 0, -1):  # Loop for rows from n to 1 in reverse order\n",
    "        for j in range(i, 0, -1):  # Loop for numbers in each row in reverse order\n",
    "            print(j, end=\" \")\n",
    "        print()  # Move to the next line after printing each row\n",
    "\n",
    "# Example usage:\n",
    "rows = 5\n",
    "print_reverse_number_pattern(rows)"
   ]
  },
  {
   "cell_type": "markdown",
   "id": "9fc79c9e-15ee-4e99-8bf8-369cfb90aae9",
   "metadata": {},
   "source": [
    "Q.2  Print the following pattern.\n",
    "* \n",
    "* * \n",
    "* * * \n",
    "* * * * \n",
    "* * * * * \n",
    "* * * * \n",
    "* * * \n",
    "* * \n",
    "*"
   ]
  },
  {
   "cell_type": "code",
   "execution_count": 2,
   "id": "27d7b256-8f42-41fc-8db2-7c32b594afb7",
   "metadata": {},
   "outputs": [
    {
     "name": "stdout",
     "output_type": "stream",
     "text": [
      "* \n",
      "* * \n",
      "* * * \n",
      "* * * * \n",
      "* * * * * \n",
      "* * * * \n",
      "* * * \n",
      "* * \n",
      "* \n"
     ]
    }
   ],
   "source": [
    "def print_pattern(rows):\n",
    "    # First half of the pattern\n",
    "    for i in range(1, rows + 1):\n",
    "        for j in range(1, i + 1):\n",
    "            print(\"*\", end=\" \")\n",
    "        print()\n",
    "    \n",
    "    # Second half of the pattern\n",
    "    for i in range(rows - 1, 0, -1):\n",
    "        for j in range(1, i + 1):\n",
    "            print(\"*\", end=\" \")\n",
    "        print()\n",
    "\n",
    "# Number of rows in the pattern (adjust this value to change the size of the pattern)\n",
    "rows = 5\n",
    "print_pattern(rows)"
   ]
  },
  {
   "cell_type": "markdown",
   "id": "9f62c7fd-4f4f-4bdd-9413-c41af38d24c7",
   "metadata": {},
   "source": [
    "Q.3 Write a program to pring the following pattern\n",
    "    *\n",
    "  * * *\n",
    "* * * * *"
   ]
  },
  {
   "cell_type": "code",
   "execution_count": 4,
   "id": "3cd12f08-60db-4699-9377-d76224a6189f",
   "metadata": {},
   "outputs": [
    {
     "name": "stdout",
     "output_type": "stream",
     "text": [
      "    * \n",
      "  * * * \n",
      "* * * * * \n"
     ]
    }
   ],
   "source": [
    "def print_pattern():\n",
    "    rows = 3  # Number of rows in the pattern\n",
    "    \n",
    "    # Iterate through each row\n",
    "    for i in range(rows):\n",
    "        # Print spaces before the stars\n",
    "        for j in range(rows - i - 1):\n",
    "            print(\" \", end=\" \")\n",
    "        \n",
    "        # Print stars\n",
    "        for k in range(2*i + 1):\n",
    "            print(\"*\", end=\" \")\n",
    "        \n",
    "        # Move to the next line after each row is printed\n",
    "        print()\n",
    "  # call the function to print the pattern \n",
    "print_pattern()"
   ]
  },
  {
   "cell_type": "markdown",
   "id": "afa98848-35cb-47c8-b57f-d33633835fe7",
   "metadata": {},
   "source": [
    "Q.4 Write a program to print the following pattern\n",
    "1\n",
    "\n",
    "2 1\n",
    "\n",
    "3 2 1\n",
    "\n",
    "4 3 2 1\n",
    "\n",
    "5 4 3 2 1"
   ]
  },
  {
   "cell_type": "code",
   "execution_count": 7,
   "id": "58750617-4981-45c6-8f73-a2797dffde5e",
   "metadata": {},
   "outputs": [
    {
     "name": "stdout",
     "output_type": "stream",
     "text": [
      "Pattern:\n",
      "1 \n",
      "2 1 \n",
      "3 2 1 \n",
      "4 3 2 1 \n",
      "5 4 3 2 1 \n"
     ]
    }
   ],
   "source": [
    "def print_pattern(rows):\n",
    "    for i in range(1, rows + 2):\n",
    "        # Print numbers in descending order from i to 1\n",
    "        for j in range(i, 0, -1):\n",
    "            print(j, end=' ')\n",
    "        print()  # Move to the next line after each row\n",
    "\n",
    "# Number of rows in the pattern\n",
    "rows = 4\n",
    "\n",
    "print(\"Pattern:\")\n",
    "print_pattern(rows)"
   ]
  },
  {
   "cell_type": "markdown",
   "id": "14ad7c90-5585-4887-9148-4fa3fbd8f4dd",
   "metadata": {},
   "source": [
    "Q.5 Write a Python Program to Find the Sum of the Series till the nth term:\n",
    "1 + x^2/2 + x^3/3 + … x^n/n\n",
    "n will be provided by the user\n",
    "\n"
   ]
  },
  {
   "cell_type": "code",
   "execution_count": 8,
   "id": "7c311255-ebec-4eab-b0e6-c5b2750ddc05",
   "metadata": {},
   "outputs": [
    {
     "name": "stdin",
     "output_type": "stream",
     "text": [
      "Enter the value of x:  5\n",
      "Enter the value of n:  7\n"
     ]
    },
    {
     "name": "stdout",
     "output_type": "stream",
     "text": [
      "The sum of the series up to 7 terms is: 14601.297619047618\n"
     ]
    }
   ],
   "source": [
    "def calculate_series_sum(x, n):\n",
    "    series_sum = 1  # Initialize sum with the first term of the series\n",
    "    \n",
    "    # Calculate each subsequent term and add to the sum\n",
    "    for i in range(2, n+1):\n",
    "        term = (x ** i) / i\n",
    "        series_sum += term\n",
    "    \n",
    "    return series_sum\n",
    "\n",
    "# Input from user\n",
    "x = float(input(\"Enter the value of x: \"))\n",
    "n = int(input(\"Enter the value of n: \"))\n",
    "\n",
    "# Calculate and print the sum of the series\n",
    "result = calculate_series_sum(x, n)\n",
    "print(f\"The sum of the series up to {n} terms is: {result}\")\n"
   ]
  },
  {
   "cell_type": "markdown",
   "id": "9c3cc72b-1ece-40a1-ba4b-80443fa3362a",
   "metadata": {},
   "source": [
    "Q.6 The natural logarithm can be approximated by the following series.\n",
    "temp.jpg [ x-1/x  + 1/2(x-1/x)^2 + 1/2(x-1/x)^3 + 1/2(x-1/x)^4 + .......]\n",
    "If x is input through the keyboard, write a program to calculate the sum of the first seven terms of this series.\n"
   ]
  },
  {
   "cell_type": "code",
   "execution_count": 9,
   "id": "4441bb78-166d-455b-b8a0-573bb1d1489b",
   "metadata": {},
   "outputs": [
    {
     "name": "stdin",
     "output_type": "stream",
     "text": [
      "Enter the value of x:  45\n"
     ]
    },
    {
     "name": "stdout",
     "output_type": "stream",
     "text": [
      "The sum of the first seven terms of the series is: 1.900273327930999\n"
     ]
    }
   ],
   "source": [
    "def calculate_ln_approx(x):\n",
    "    # Calculate the initial term (x - 1) / x\n",
    "    term = (x - 1) / x\n",
    "    series_sum = term\n",
    "    \n",
    "    # Calculate and add the next six terms\n",
    "    for n in range(2, 8):\n",
    "        term = (0.5 * (term * (x - 1) / x))\n",
    "        series_sum += term\n",
    "        \n",
    "    return series_sum\n",
    "\n",
    "# Input the value of x from the keyboard\n",
    "x = float(input(\"Enter the value of x: \"))\n",
    "\n",
    "# Calculate the sum of the first seven terms of the series\n",
    "ln_approx = calculate_ln_approx(x)\n",
    "\n",
    "# Print the result\n",
    "print(f\"The sum of the first seven terms of the series is: {ln_approx}\")"
   ]
  },
  {
   "cell_type": "markdown",
   "id": "5ffecfea-4593-4182-9582-b38c382473a8",
   "metadata": {},
   "source": [
    "Q.7 Problem 7 - Find the sum of the series upto n terms.\n",
    "Write a program to calculate the sum of series up to n term.\n",
    "For example, if n =5 the series will become 2 + 22 + 222 + 2222 + 22222 = 24690. \n",
    "Take the user input and then calculate. And the output style should match which is given in the example.\n",
    "Example 1:\n",
    "Input:\n",
    "5\n",
    "Output:\n",
    "2+22+222+2222+22222"
   ]
  },
  {
   "cell_type": "code",
   "execution_count": 10,
   "id": "4856e6cf-1a3f-4c6d-ae74-269951a0b473",
   "metadata": {},
   "outputs": [
    {
     "name": "stdin",
     "output_type": "stream",
     "text": [
      "Enter the number of terms:  56\n"
     ]
    },
    {
     "name": "stdout",
     "output_type": "stream",
     "text": [
      "2+22+222+2222+22222+222222+2222222+22222222+222222222+2222222222+22222222222+222222222222+2222222222222+22222222222222+222222222222222+2222222222222222+22222222222222222+222222222222222222+2222222222222222222+22222222222222222222+222222222222222222222+2222222222222222222222+22222222222222222222222+222222222222222222222222+2222222222222222222222222+22222222222222222222222222+222222222222222222222222222+2222222222222222222222222222+22222222222222222222222222222+222222222222222222222222222222+2222222222222222222222222222222+22222222222222222222222222222222+222222222222222222222222222222222+2222222222222222222222222222222222+22222222222222222222222222222222222+222222222222222222222222222222222222+2222222222222222222222222222222222222+22222222222222222222222222222222222222+222222222222222222222222222222222222222+2222222222222222222222222222222222222222+22222222222222222222222222222222222222222+222222222222222222222222222222222222222222+2222222222222222222222222222222222222222222+22222222222222222222222222222222222222222222+222222222222222222222222222222222222222222222+2222222222222222222222222222222222222222222222+22222222222222222222222222222222222222222222222+222222222222222222222222222222222222222222222222+2222222222222222222222222222222222222222222222222+22222222222222222222222222222222222222222222222222+222222222222222222222222222222222222222222222222222+2222222222222222222222222222222222222222222222222222+22222222222222222222222222222222222222222222222222222+222222222222222222222222222222222222222222222222222222+2222222222222222222222222222222222222222222222222222222+22222222222222222222222222222222222222222222222222222222\n",
      "Sum of above series is: 24691358024691358024691358024691358024691358024691358012\n"
     ]
    }
   ],
   "source": [
    "def calculate_series_sum(n):\n",
    "    terms = []\n",
    "    current_term = 0\n",
    "    \n",
    "    for i in range(1, n + 1):\n",
    "        current_term = current_term * 10 + 2\n",
    "        terms.append(current_term)\n",
    "    \n",
    "    series_sum = sum(terms)\n",
    "    \n",
    "    return terms, series_sum\n",
    "\n",
    "# Input the value of n from the keyboard\n",
    "n = int(input(\"Enter the number of terms: \"))\n",
    "\n",
    "# Calculate the series and its sum\n",
    "terms, series_sum = calculate_series_sum(n)\n",
    "\n",
    "# Print the terms in the specified format\n",
    "print('+'.join(map(str, terms)))\n",
    "print(f\"Sum of above series is: {series_sum}\")"
   ]
  },
  {
   "cell_type": "markdown",
   "id": "73ee586b-e277-42aa-9d7b-d18df6c8e586",
   "metadata": {},
   "source": [
    "Q.8 Write a program to print all the unique combinations of 1,2,3 and 4\n",
    "Output:\n",
    "1 2 3 4\n",
    "1 2 4 3\n",
    "1 3 2 4\n",
    "1 3 4 2\n",
    "1 4 2 3\n",
    "1 4 3 2\n",
    "2 1 3 4\n",
    "2 1 4 3\n",
    "2 3 1 4\n",
    "2 3 4 1\n",
    "2 4 1 3\n",
    ".\n",
    ".\n",
    "and so on"
   ]
  },
  {
   "cell_type": "code",
   "execution_count": 11,
   "id": "d1d2396b-d095-4648-9d2e-e7c3569f043b",
   "metadata": {},
   "outputs": [
    {
     "name": "stdout",
     "output_type": "stream",
     "text": [
      "1 2 3 4\n",
      "1 2 4 3\n",
      "1 3 2 4\n",
      "1 3 4 2\n",
      "1 4 2 3\n",
      "1 4 3 2\n",
      "2 1 3 4\n",
      "2 1 4 3\n",
      "2 3 1 4\n",
      "2 3 4 1\n",
      "2 4 1 3\n",
      "2 4 3 1\n",
      "3 1 2 4\n",
      "3 1 4 2\n",
      "3 2 1 4\n",
      "3 2 4 1\n",
      "3 4 1 2\n",
      "3 4 2 1\n",
      "4 1 2 3\n",
      "4 1 3 2\n",
      "4 2 1 3\n",
      "4 2 3 1\n",
      "4 3 1 2\n",
      "4 3 2 1\n"
     ]
    }
   ],
   "source": [
    "from itertools import permutations\n",
    "\n",
    "# Define the list of numbers\n",
    "numbers = [1, 2, 3, 4]\n",
    "\n",
    "# Generate all unique permutations of the list\n",
    "all_permutations = permutations(numbers)\n",
    "\n",
    "# Print each permutation\n",
    "for perm in all_permutations:\n",
    "    print(' '.join(map(str, perm)))"
   ]
  },
  {
   "cell_type": "markdown",
   "id": "9f4e9314-370d-4092-a4ec-b342cedf4864",
   "metadata": {},
   "source": [
    "Q.9 Write a program that will take a decimal number as input and prints out the binary equivalent of the number"
   ]
  },
  {
   "cell_type": "code",
   "execution_count": 13,
   "id": "ad2f8c11-7d3c-4eae-8a2c-a9e8a1dc5af2",
   "metadata": {},
   "outputs": [
    {
     "name": "stdin",
     "output_type": "stream",
     "text": [
      "Enter a decimal number:  4\n"
     ]
    },
    {
     "name": "stdout",
     "output_type": "stream",
     "text": [
      "The binary equivalent of 4 is: 100\n"
     ]
    }
   ],
   "source": [
    "def decimal_to_binary(n):\n",
    "    if n == 0:\n",
    "        return \"0\"\n",
    "    binary_num = \"\"\n",
    "    while n > 0:\n",
    "        binary_num = str(n % 2) + binary_num\n",
    "        n = n // 2\n",
    "    return binary_num\n",
    "\n",
    "# Input the decimal number from the keyboard\n",
    "decimal_number = int(input(\"Enter a decimal number: \"))\n",
    "\n",
    "# Convert to binary and print the result\n",
    "binary_equivalent = decimal_to_binary(decimal_number)\n",
    "print(f\"The binary equivalent of {decimal_number} is: {binary_equivalent}\")"
   ]
  },
  {
   "cell_type": "markdown",
   "id": "2cd5df0e-7c8d-4bff-b2fb-b50f48f4787c",
   "metadata": {},
   "source": [
    "Q.10 Write a program that will take 2 numbers as input and prints the LCM and HCF of those 2 numbers"
   ]
  },
  {
   "cell_type": "code",
   "execution_count": 14,
   "id": "bfe5a0cf-02ec-4b79-a483-80d395b985fb",
   "metadata": {},
   "outputs": [
    {
     "name": "stdin",
     "output_type": "stream",
     "text": [
      "Enter the first number:  5\n",
      "Enter the second number:  8\n"
     ]
    },
    {
     "name": "stdout",
     "output_type": "stream",
     "text": [
      "The HCF (GCD) of 5 and 8 is: 1\n",
      "The LCM of 5 and 8 is: 40\n"
     ]
    }
   ],
   "source": [
    "import math\n",
    "\n",
    "def calculate_hcf(x, y):\n",
    "    return math.gcd(x, y)\n",
    "\n",
    "def calculate_lcm(x, y):\n",
    "    return abs(x * y) // calculate_hcf(x, y)\n",
    "\n",
    "# Input two numbers from the keyboard\n",
    "num1 = int(input(\"Enter the first number: \"))\n",
    "num2 = int(input(\"Enter the second number: \"))\n",
    "\n",
    "# Calculate HCF (GCD) and LCM\n",
    "hcf = calculate_hcf(num1, num2)\n",
    "lcm = calculate_lcm(num1, num2)\n",
    "\n",
    "# Print the results\n",
    "print(f\"The HCF (GCD) of {num1} and {num2} is: {hcf}\")\n",
    "print(f\"The LCM of {num1} and {num2} is: {lcm}\")"
   ]
  },
  {
   "cell_type": "markdown",
   "id": "ee1a8df6-52ac-4c25-9595-89b376d66982",
   "metadata": {},
   "source": [
    "Q.11 Create Short Form from initial character\n",
    "Given a string create short form ofthe string from Initial character. Short form should be capitalised.\n",
    "Example:\n",
    "Input:\n",
    "Data science mentorship program\n",
    "Output:\n",
    "DSMP"
   ]
  },
  {
   "cell_type": "code",
   "execution_count": 17,
   "id": "9177354c-fa03-4d8c-91c3-217d5d7b9ac6",
   "metadata": {},
   "outputs": [
    {
     "name": "stdin",
     "output_type": "stream",
     "text": [
      "Enter the phrase:  Data science mentorship program \n"
     ]
    },
    {
     "name": "stdout",
     "output_type": "stream",
     "text": [
      "The short form of the input is: DSMP\n"
     ]
    }
   ],
   "source": [
    "def create_short_form(phrase):\n",
    "    # Split the phrase into words\n",
    "    words = phrase.split()\n",
    "    \n",
    "    # Extract the first character of each word and capitalize it\n",
    "    short_form = ''.join(word[0].upper() for word in words)\n",
    "    \n",
    "    return short_form\n",
    "\n",
    "# Input the phrase from the keyboard\n",
    "input_phrase = input(\"Enter the phrase: \")\n",
    "\n",
    "# Create the short form\n",
    "short_form = create_short_form(input_phrase)\n",
    "\n",
    "# Print the result\n",
    "print(f\"The short form of the input is: {short_form}\")"
   ]
  },
  {
   "cell_type": "markdown",
   "id": "c183e36c-6391-426b-a0d0-07f6c4447e74",
   "metadata": {},
   "source": [
    "Q.12 Append second string in the middle of first string\n",
    "Input:\n",
    "campusx\n",
    "data\n",
    "Output:\n",
    "camdatapusx"
   ]
  },
  {
   "cell_type": "code",
   "execution_count": 18,
   "id": "e470235b-93e0-45a5-9d78-fc477d620d39",
   "metadata": {},
   "outputs": [
    {
     "name": "stdin",
     "output_type": "stream",
     "text": [
      "Enter the first string:  campusx\n",
      "Enter the second string:  data\n"
     ]
    },
    {
     "name": "stdout",
     "output_type": "stream",
     "text": [
      "The result of appending the second string in the middle of the first string is: camdatapusx\n"
     ]
    }
   ],
   "source": [
    "def append_in_middle(first, second):\n",
    "    middle_index = len(first) // 2\n",
    "    result = first[:middle_index] + second + first[middle_index:]\n",
    "    return result\n",
    "\n",
    "# Input the two strings from the keyboard\n",
    "first_string = input(\"Enter the first string: \")\n",
    "second_string = input(\"Enter the second string: \")\n",
    "\n",
    "# Append the second string in the middle of the first string\n",
    "result_string = append_in_middle(first_string, second_string)\n",
    "\n",
    "# Print the result\n",
    "print(f\"The result of appending the second string in the middle of the first string is: {result_string}\")"
   ]
  },
  {
   "cell_type": "markdown",
   "id": "962f39a6-d488-4aad-984c-fb7ce3b8ba77",
   "metadata": {},
   "source": [
    "Q.13 Given string contains a combination of the lower and upper case letters.\n",
    "Write a program to arrange the characters of a string so that all lowercase letters should come first.\n",
    "Given:\n",
    "str1 = PyNaTive\n",
    "Expected Output:\n",
    "yaivePNT"
   ]
  },
  {
   "cell_type": "code",
   "execution_count": 19,
   "id": "6a849210-b986-4f28-ac17-51b51b6f8f36",
   "metadata": {},
   "outputs": [
    {
     "name": "stdout",
     "output_type": "stream",
     "text": [
      "Arranged string: yaivePNT\n"
     ]
    }
   ],
   "source": [
    "def arrange_string(input_str):\n",
    "    lower_case = ''.join([char for char in input_str if char.islower()])\n",
    "    upper_case = ''.join([char for char in input_str if char.isupper()])\n",
    "    return lower_case + upper_case\n",
    "\n",
    "# Given string\n",
    "str1 = \"PyNaTive\"\n",
    "\n",
    "# Arrange the string\n",
    "result = arrange_string(str1)\n",
    "\n",
    "# Print the result\n",
    "print(f\"Arranged string: {result}\")"
   ]
  },
  {
   "cell_type": "markdown",
   "id": "82e7d4ca-61eb-46c4-82a9-4abed1471832",
   "metadata": {},
   "source": [
    "Q.14 Take a alphanumeric string input and print the sum and average of the digits that appear in the string, \n",
    "ignoring all other characters.\n",
    "Input:\n",
    "hel123O4every093\n",
    "Output:\n",
    "Sum: 22\n",
    "Avg: 2.75"
   ]
  },
  {
   "cell_type": "code",
   "execution_count": 20,
   "id": "123fbab8-d1fb-4747-aef9-53ac6b33b0a8",
   "metadata": {},
   "outputs": [
    {
     "name": "stdin",
     "output_type": "stream",
     "text": [
      "Enter the alphanumeric string:  hel12304every093\n"
     ]
    },
    {
     "name": "stdout",
     "output_type": "stream",
     "text": [
      "Sum: 22\n",
      "Avg: 2.75\n"
     ]
    }
   ],
   "source": [
    "def calculate_sum_and_average(input_str):\n",
    "    digits = [int(char) for char in input_str if char.isdigit()]\n",
    "    if not digits:\n",
    "        return 0, 0.0\n",
    "    \n",
    "    total_sum = sum(digits)\n",
    "    average = total_sum / len(digits)\n",
    "    return total_sum, average\n",
    "\n",
    "# Input the alphanumeric string from the keyboard\n",
    "input_string = input(\"Enter the alphanumeric string: \")\n",
    "\n",
    "# Calculate sum and average of digits\n",
    "total_sum, average = calculate_sum_and_average(input_string)\n",
    "\n",
    "# Print the results\n",
    "print(f\"Sum: {total_sum}\")\n",
    "print(f\"Avg: {average:.2f}\")"
   ]
  },
  {
   "cell_type": "markdown",
   "id": "a792bc2f-7147-46c1-8d91-081b9540bbb6",
   "metadata": {},
   "source": [
    "Q.15 Removal of all characters from a string except integers\n",
    "Given:\n",
    "str1 = 'I am 25 years and 10 months old'\n",
    "Expected Output:2510"
   ]
  },
  {
   "cell_type": "code",
   "execution_count": 21,
   "id": "a1569e83-879a-4faf-a080-18781b7708ff",
   "metadata": {},
   "outputs": [
    {
     "name": "stdout",
     "output_type": "stream",
     "text": [
      "Expected Output: 2510\n"
     ]
    }
   ],
   "source": [
    "import re\n",
    "\n",
    "def extract_digits(input_str):\n",
    "    digits = re.findall(r'\\d+', input_str)\n",
    "    return ''.join(digits)\n",
    "\n",
    "# Given string\n",
    "str1 = 'I am 25 years and 10 months old'\n",
    "\n",
    "# Extract digits\n",
    "result = extract_digits(str1)\n",
    "\n",
    "# Print the result\n",
    "print(\"Expected Output:\", result)\n"
   ]
  },
  {
   "cell_type": "markdown",
   "id": "f85486ef-17ad-4070-ba72-2e0dd49d13d4",
   "metadata": {},
   "source": [
    "Q.16 Check whether the string is Symmetrical.\n",
    "Statement: Given a string. the task is to check if the string is symmetrical or not.\n",
    "A string is said to be symmetrical if both the halves of the string are the same.\n",
    "Example 1:\n",
    "Input\n",
    "khokho\n",
    "Output\n",
    "The entered string is symmetrical"
   ]
  },
  {
   "cell_type": "code",
   "execution_count": 22,
   "id": "e0600f7c-22ef-4237-ba5d-a8a429e7e57f",
   "metadata": {},
   "outputs": [
    {
     "name": "stdin",
     "output_type": "stream",
     "text": [
      "Enter a string:  khokho\n"
     ]
    },
    {
     "name": "stdout",
     "output_type": "stream",
     "text": [
      "The entered string is not symmetrical\n"
     ]
    }
   ],
   "source": [
    "def is_symmetrical(input_str):\n",
    "    # Get the length of the string\n",
    "    length = len(input_str)\n",
    "    \n",
    "    # Compare the first half with the reversed second half\n",
    "    return input_str[:length//2] == input_str[-(length//2):][::-1]\n",
    "\n",
    "# Input the string from the keyboard\n",
    "input_string = input(\"Enter a string: \")\n",
    "\n",
    "# Check if the string is symmetrical\n",
    "if is_symmetrical(input_string):\n",
    "    print(\"The entered string is symmetrical\")\n",
    "else:\n",
    "    print(\"The entered string is not symmetrical\")"
   ]
  },
  {
   "cell_type": "markdown",
   "id": "411ec26b-d8ae-4d6a-9f55-7aa02e9a9524",
   "metadata": {},
   "source": [
    "Q.17 Reverse words in a given String\n",
    "Statement: We are given a string and we need to reverse words of a given string.\n",
    "Example 1:\n",
    "Input:\n",
    "geeks quiz practice code\n",
    "Output:\n",
    "code practice quiz geeks\n",
    "Example 2:\n",
    "Input:\n",
    "my name is laxmi\n",
    "Output:\n",
    "laxmi is name my"
   ]
  },
  {
   "cell_type": "code",
   "execution_count": 23,
   "id": "60a8f056-7c63-4d15-99df-855eaf0ee67b",
   "metadata": {},
   "outputs": [
    {
     "name": "stdin",
     "output_type": "stream",
     "text": [
      "Enter a string:  geeks quiz practice code\n"
     ]
    },
    {
     "name": "stdout",
     "output_type": "stream",
     "text": [
      "Output:\n",
      "code practice quiz geeks\n"
     ]
    }
   ],
   "source": [
    "def reverse_words(input_str):\n",
    "    # Split the string into words\n",
    "    words = input_str.split()\n",
    "    \n",
    "    # Reverse the order of the words\n",
    "    reversed_words = words[::-1]\n",
    "    \n",
    "    # Join the reversed words back into a string\n",
    "    reversed_string = ' '.join(reversed_words)\n",
    "    \n",
    "    return reversed_string\n",
    "\n",
    "# Input the string from the keyboard\n",
    "input_string = input(\"Enter a string: \")\n",
    "\n",
    "# Reverse the words in the string\n",
    "reversed_string = reverse_words(input_string)\n",
    "\n",
    "# Print the result\n",
    "print(\"Output:\")\n",
    "print(reversed_string)"
   ]
  },
  {
   "cell_type": "markdown",
   "id": "7648510e-e1e1-4e28-8a52-e257d954adc7",
   "metadata": {},
   "source": [
    "Q18. Find uncommon words from two Strings.\n",
    "Statement: Given two sentences as strings A and B. The task is to return a list of all uncommon words.\n",
    "A word is uncommon if it appears exactly once in any one of the sentences, and does not appear in the other sentence.\n",
    "Note: A sentence is a string of space-separated words. Each word consists only of lowercase letters.\n",
    "Example 1:\n",
    "Input:\n",
    "A = \"apple banana mango\" \n",
    "B = \"banana fruits mango\"\n",
    "Output:\n",
    "['apple', 'fruits']"
   ]
  },
  {
   "cell_type": "code",
   "execution_count": 27,
   "id": "34ea6d30-4765-4505-aac1-e8b7a243e9ee",
   "metadata": {},
   "outputs": [
    {
     "name": "stdin",
     "output_type": "stream",
     "text": [
      "Enter the first sentence:  apple banana mango\n",
      "Enter the second sentence:  apple fruits mango\n"
     ]
    },
    {
     "name": "stdout",
     "output_type": "stream",
     "text": [
      "Output:\n",
      "['banana', 'fruits']\n"
     ]
    }
   ],
   "source": [
    "def find_uncommon_words(sentence1, sentence2):\n",
    "    words1 = sentence1.split()\n",
    "    words2 = sentence2.split()\n",
    "    \n",
    "    frequency = {}\n",
    "    \n",
    "    # Count frequency of words in first sentence\n",
    "    for word in words1:\n",
    "        frequency[word] = frequency.get(word, 0) + 1\n",
    "    \n",
    "    # Count frequency of words in second sentence\n",
    "    for word in words2:\n",
    "        frequency[word] = frequency.get(word, 0) + 1\n",
    "    \n",
    "    # Select words with frequency of 1\n",
    "    uncommon_words = [word for word, freq in frequency.items() if freq == 1]\n",
    "    \n",
    "    return uncommon_words\n",
    "\n",
    "# Input sentences from the keyboard\n",
    "sentence1 = input(\"Enter the first sentence: \")\n",
    "sentence2 = input(\"Enter the second sentence: \")\n",
    "\n",
    "# Find uncommon words\n",
    "uncommon = find_uncommon_words(sentence1, sentence2)\n",
    "\n",
    "# Print the result\n",
    "print(\"Output:\")\n",
    "print(uncommon)"
   ]
  },
  {
   "cell_type": "markdown",
   "id": "31bfffde-6be4-4063-bb27-97c88fba3344",
   "metadata": {},
   "source": [
    "Q.19 Word location in String.\n",
    "Statement: Find a location of a word in a given sentence.\n",
    "Example 1:\n",
    "Input:\n",
    "Sentence: We can learn data science through campusx mentorship program.\n",
    "word: campusx\n",
    "Output:\n",
    "Location of the word is 7.\n",
    "Note- Don't use index/find functions"
   ]
  },
  {
   "cell_type": "code",
   "execution_count": 28,
   "id": "6b7ceda7-3617-4fbd-bb80-5556dd596795",
   "metadata": {},
   "outputs": [
    {
     "name": "stdin",
     "output_type": "stream",
     "text": [
      "Enter the sentence:  We can learn data science through campusx mentorship program.\n",
      "Enter the word to find:  campusx\n"
     ]
    },
    {
     "name": "stdout",
     "output_type": "stream",
     "text": [
      "Location of the word is: 7\n"
     ]
    }
   ],
   "source": [
    "def find_word_location(sentence, word):\n",
    "    words = sentence.split()\n",
    "    location = None\n",
    "    \n",
    "    for i, w in enumerate(words, 1):\n",
    "        if w == word:\n",
    "            location = i\n",
    "            break\n",
    "    \n",
    "    return location\n",
    "\n",
    "# Input the sentence and word from the keyboard\n",
    "sentence = input(\"Enter the sentence: \")\n",
    "word = input(\"Enter the word to find: \")\n",
    "\n",
    "# Find the location of the word\n",
    "location = find_word_location(sentence, word)\n",
    "\n",
    "# Print the result\n",
    "if location is not None:\n",
    "    print(f\"Location of the word is: {location}\")\n",
    "else:\n",
    "    print(\"The word is not found in the sentence.\")"
   ]
  },
  {
   "cell_type": "markdown",
   "id": "d5f59a1f-c8a6-45b8-a7c1-782f08dacf7c",
   "metadata": {},
   "source": [
    "Q.20 Write a program that can remove all the duplicate characters from a string. User will provide the input.\n",
    "Colab paid products - Cancel contracts here\n",
    "Could not connect to the reCAPTCHA service. Please check your internet connection and reload to get a reCAPTCHA challenge."
   ]
  },
  {
   "cell_type": "code",
   "execution_count": 29,
   "id": "864b025e-07cf-4702-becc-d9c9ca682898",
   "metadata": {},
   "outputs": [
    {
     "name": "stdin",
     "output_type": "stream",
     "text": [
      "Enter a string:  I am learning python . Coding in python is an intresting job\n"
     ]
    },
    {
     "name": "stdout",
     "output_type": "stream",
     "text": [
      "String after removing duplicates: I amlernigpytho.Cdsjb\n"
     ]
    }
   ],
   "source": [
    "def remove_duplicates(input_str):\n",
    "    # Create an empty set to store unique characters\n",
    "    unique_chars = set()\n",
    "    \n",
    "    # Initialize an empty string to store the result\n",
    "    result = \"\"\n",
    "    \n",
    "    # Iterate over each character in the input string\n",
    "    for char in input_str:\n",
    "        # If the character is not in the unique_chars set, add it to the result string and the set\n",
    "        if char not in unique_chars:\n",
    "            result += char\n",
    "            unique_chars.add(char)\n",
    "    \n",
    "    return result\n",
    "\n",
    "# Input the string from the keyboard\n",
    "input_string = input(\"Enter a string: \")\n",
    "\n",
    "# Remove duplicates from the string\n",
    "result_string = remove_duplicates(input_string)\n",
    "\n",
    "# Print the result\n",
    "print(\"String after removing duplicates:\", result_string)"
   ]
  }
 ],
 "metadata": {
  "kernelspec": {
   "display_name": "Python 3 (ipykernel)",
   "language": "python",
   "name": "python3"
  },
  "language_info": {
   "codemirror_mode": {
    "name": "ipython",
    "version": 3
   },
   "file_extension": ".py",
   "mimetype": "text/x-python",
   "name": "python",
   "nbconvert_exporter": "python",
   "pygments_lexer": "ipython3",
   "version": "3.11.7"
  }
 },
 "nbformat": 4,
 "nbformat_minor": 5
}
